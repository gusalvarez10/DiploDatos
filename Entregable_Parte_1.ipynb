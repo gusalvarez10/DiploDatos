{
  "nbformat": 4,
  "nbformat_minor": 0,
  "metadata": {
    "colab": {
      "name": "Entregable - Parte 1.ipynb",
      "provenance": [],
      "collapsed_sections": [],
      "toc_visible": true,
      "include_colab_link": true
    },
    "kernelspec": {
      "name": "python3",
      "display_name": "Python 3"
    }
  },
  "cells": [
    {
      "cell_type": "markdown",
      "metadata": {
        "id": "view-in-github",
        "colab_type": "text"
      },
      "source": [
        "<a href=\"https://colab.research.google.com/github/gusalvarez10/DiploDatos/blob/main/Entregable_Parte_1.ipynb\" target=\"_parent\"><img src=\"https://colab.research.google.com/assets/colab-badge.svg\" alt=\"Open In Colab\"/></a>"
      ]
    },
    {
      "cell_type": "markdown",
      "metadata": {
        "id": "LYvAOR2VzHmW"
      },
      "source": [
        "\n",
        "**Diplomatura en Ciencia de Datos, Aprendizaje Automático y sus Aplicaciones**\n",
        "\n",
        "**Edición 2022**\n",
        "\n",
        "---\n",
        "## Trabajo práctico entregable - Parte 1"
      ]
    },
    {
      "cell_type": "code",
      "metadata": {
        "id": "Xwdfo7z20TUK"
      },
      "source": [
        "import io\n",
        "import matplotlib\n",
        "import matplotlib.pyplot as plt\n",
        "import numpy\n",
        "import pandas as pd\n",
        "import seaborn\n",
        "\n",
        "seaborn.set_context('talk')"
      ],
      "execution_count": 2,
      "outputs": []
    },
    {
      "cell_type": "markdown",
      "source": [
        "#### El data frame está definido como df.\n",
        "Lo primero a realizar es la lectura del **dataset**:"
      ],
      "metadata": {
        "id": "avyNCn23r1iy"
      }
    },
    {
      "cell_type": "markdown",
      "metadata": {
        "id": "XY2Hl-Ma07Nn"
      },
      "source": [
        "## Lectura del dataset\n",
        "\n",
        "En la notebook 00 se explican los detalles de la siguiente sección."
      ]
    },
    {
      "cell_type": "code",
      "metadata": {
        "id": "Vviv_sqXdR5W"
      },
      "source": [
        "url = 'https://cs.famaf.unc.edu.ar/~mteruel/datasets/diplodatos/sysarmy_survey_2020_processed.csv'\n",
        "df = pd.read_csv(url)"
      ],
      "execution_count": 3,
      "outputs": []
    },
    {
      "cell_type": "code",
      "metadata": {
        "id": "gckNHXXLktJ4",
        "colab": {
          "base_uri": "https://localhost:8080/",
          "height": 323
        },
        "outputId": "7a301d31-699f-4e69-bab9-5b9c69275c93"
      },
      "source": [
        "df[:3]"
      ],
      "execution_count": 4,
      "outputs": [
        {
          "output_type": "execute_result",
          "data": {
            "text/plain": [
              "  profile_gender  profile_age work_country                    work_province  \\\n",
              "0          Mujer           26    Argentina  Ciudad Autónoma de Buenos Aires   \n",
              "1         Hombre           29    Argentina                       Corrientes   \n",
              "2          Mujer           22    Argentina  Ciudad Autónoma de Buenos Aires   \n",
              "\n",
              "   profile_years_experience  work_years_in_company  \\\n",
              "0                       3.0                    3.0   \n",
              "1                       5.0                    2.0   \n",
              "2                       2.0                    0.0   \n",
              "\n",
              "   work_years_in_current_position  work_people_in_charge_of  \\\n",
              "0                             3.0                         0   \n",
              "1                             2.0                         4   \n",
              "2                             0.0                         0   \n",
              "\n",
              "  profile_studies_level profile_studies_level_state  ...  \\\n",
              "0         Universitario                    En curso  ...   \n",
              "1         Universitario                    En curso  ...   \n",
              "2            Secundario                  Completado  ...   \n",
              "\n",
              "  work_has_violence_situations profile_sexual_orientation  \\\n",
              "0         En mi trabajo actual                 Homosexual   \n",
              "1                        Jamás               Heterosexual   \n",
              "2       En un trabajo anterior           Bisexual o queer   \n",
              "\n",
              "  profile_has_disabilities profile_has_disabilities_hiring_difficulties  \\\n",
              "0                      NaN                                          NaN   \n",
              "1                   Visual                                           No   \n",
              "2                      NaN                                           No   \n",
              "\n",
              "  company_employee_number                          company_main_activity  \\\n",
              "0                501-1000  Servicios / Consultoría de Software / Digital   \n",
              "1                 201-500                               Otras industrias   \n",
              "2               2001-5000                               Otras industrias   \n",
              "\n",
              "  company_recommended company_diversity_policies  \\\n",
              "0                   7                          2   \n",
              "1                   8                          9   \n",
              "2                   6                          9   \n",
              "\n",
              "                              company_extra_benefits  \\\n",
              "0  Capacitaciones y/o cursos, Comidas pagas / sub...   \n",
              "1  Horarios flexibles, Stock options / RSUs, Viát...   \n",
              "2  Clases de gimnasia online, Comidas pagas / sub...   \n",
              "\n",
              "  company_best_companies_city  \n",
              "0                         NaN  \n",
              "1                         NaN  \n",
              "2                         NaN  \n",
              "\n",
              "[3 rows x 48 columns]"
            ],
            "text/html": [
              "\n",
              "  <div id=\"df-50c624b6-2619-4e90-9012-e610361731b4\">\n",
              "    <div class=\"colab-df-container\">\n",
              "      <div>\n",
              "<style scoped>\n",
              "    .dataframe tbody tr th:only-of-type {\n",
              "        vertical-align: middle;\n",
              "    }\n",
              "\n",
              "    .dataframe tbody tr th {\n",
              "        vertical-align: top;\n",
              "    }\n",
              "\n",
              "    .dataframe thead th {\n",
              "        text-align: right;\n",
              "    }\n",
              "</style>\n",
              "<table border=\"1\" class=\"dataframe\">\n",
              "  <thead>\n",
              "    <tr style=\"text-align: right;\">\n",
              "      <th></th>\n",
              "      <th>profile_gender</th>\n",
              "      <th>profile_age</th>\n",
              "      <th>work_country</th>\n",
              "      <th>work_province</th>\n",
              "      <th>profile_years_experience</th>\n",
              "      <th>work_years_in_company</th>\n",
              "      <th>work_years_in_current_position</th>\n",
              "      <th>work_people_in_charge_of</th>\n",
              "      <th>profile_studies_level</th>\n",
              "      <th>profile_studies_level_state</th>\n",
              "      <th>...</th>\n",
              "      <th>work_has_violence_situations</th>\n",
              "      <th>profile_sexual_orientation</th>\n",
              "      <th>profile_has_disabilities</th>\n",
              "      <th>profile_has_disabilities_hiring_difficulties</th>\n",
              "      <th>company_employee_number</th>\n",
              "      <th>company_main_activity</th>\n",
              "      <th>company_recommended</th>\n",
              "      <th>company_diversity_policies</th>\n",
              "      <th>company_extra_benefits</th>\n",
              "      <th>company_best_companies_city</th>\n",
              "    </tr>\n",
              "  </thead>\n",
              "  <tbody>\n",
              "    <tr>\n",
              "      <th>0</th>\n",
              "      <td>Mujer</td>\n",
              "      <td>26</td>\n",
              "      <td>Argentina</td>\n",
              "      <td>Ciudad Autónoma de Buenos Aires</td>\n",
              "      <td>3.0</td>\n",
              "      <td>3.0</td>\n",
              "      <td>3.0</td>\n",
              "      <td>0</td>\n",
              "      <td>Universitario</td>\n",
              "      <td>En curso</td>\n",
              "      <td>...</td>\n",
              "      <td>En mi trabajo actual</td>\n",
              "      <td>Homosexual</td>\n",
              "      <td>NaN</td>\n",
              "      <td>NaN</td>\n",
              "      <td>501-1000</td>\n",
              "      <td>Servicios / Consultoría de Software / Digital</td>\n",
              "      <td>7</td>\n",
              "      <td>2</td>\n",
              "      <td>Capacitaciones y/o cursos, Comidas pagas / sub...</td>\n",
              "      <td>NaN</td>\n",
              "    </tr>\n",
              "    <tr>\n",
              "      <th>1</th>\n",
              "      <td>Hombre</td>\n",
              "      <td>29</td>\n",
              "      <td>Argentina</td>\n",
              "      <td>Corrientes</td>\n",
              "      <td>5.0</td>\n",
              "      <td>2.0</td>\n",
              "      <td>2.0</td>\n",
              "      <td>4</td>\n",
              "      <td>Universitario</td>\n",
              "      <td>En curso</td>\n",
              "      <td>...</td>\n",
              "      <td>Jamás</td>\n",
              "      <td>Heterosexual</td>\n",
              "      <td>Visual</td>\n",
              "      <td>No</td>\n",
              "      <td>201-500</td>\n",
              "      <td>Otras industrias</td>\n",
              "      <td>8</td>\n",
              "      <td>9</td>\n",
              "      <td>Horarios flexibles, Stock options / RSUs, Viát...</td>\n",
              "      <td>NaN</td>\n",
              "    </tr>\n",
              "    <tr>\n",
              "      <th>2</th>\n",
              "      <td>Mujer</td>\n",
              "      <td>22</td>\n",
              "      <td>Argentina</td>\n",
              "      <td>Ciudad Autónoma de Buenos Aires</td>\n",
              "      <td>2.0</td>\n",
              "      <td>0.0</td>\n",
              "      <td>0.0</td>\n",
              "      <td>0</td>\n",
              "      <td>Secundario</td>\n",
              "      <td>Completado</td>\n",
              "      <td>...</td>\n",
              "      <td>En un trabajo anterior</td>\n",
              "      <td>Bisexual o queer</td>\n",
              "      <td>NaN</td>\n",
              "      <td>No</td>\n",
              "      <td>2001-5000</td>\n",
              "      <td>Otras industrias</td>\n",
              "      <td>6</td>\n",
              "      <td>9</td>\n",
              "      <td>Clases de gimnasia online, Comidas pagas / sub...</td>\n",
              "      <td>NaN</td>\n",
              "    </tr>\n",
              "  </tbody>\n",
              "</table>\n",
              "<p>3 rows × 48 columns</p>\n",
              "</div>\n",
              "      <button class=\"colab-df-convert\" onclick=\"convertToInteractive('df-50c624b6-2619-4e90-9012-e610361731b4')\"\n",
              "              title=\"Convert this dataframe to an interactive table.\"\n",
              "              style=\"display:none;\">\n",
              "        \n",
              "  <svg xmlns=\"http://www.w3.org/2000/svg\" height=\"24px\"viewBox=\"0 0 24 24\"\n",
              "       width=\"24px\">\n",
              "    <path d=\"M0 0h24v24H0V0z\" fill=\"none\"/>\n",
              "    <path d=\"M18.56 5.44l.94 2.06.94-2.06 2.06-.94-2.06-.94-.94-2.06-.94 2.06-2.06.94zm-11 1L8.5 8.5l.94-2.06 2.06-.94-2.06-.94L8.5 2.5l-.94 2.06-2.06.94zm10 10l.94 2.06.94-2.06 2.06-.94-2.06-.94-.94-2.06-.94 2.06-2.06.94z\"/><path d=\"M17.41 7.96l-1.37-1.37c-.4-.4-.92-.59-1.43-.59-.52 0-1.04.2-1.43.59L10.3 9.45l-7.72 7.72c-.78.78-.78 2.05 0 2.83L4 21.41c.39.39.9.59 1.41.59.51 0 1.02-.2 1.41-.59l7.78-7.78 2.81-2.81c.8-.78.8-2.07 0-2.86zM5.41 20L4 18.59l7.72-7.72 1.47 1.35L5.41 20z\"/>\n",
              "  </svg>\n",
              "      </button>\n",
              "      \n",
              "  <style>\n",
              "    .colab-df-container {\n",
              "      display:flex;\n",
              "      flex-wrap:wrap;\n",
              "      gap: 12px;\n",
              "    }\n",
              "\n",
              "    .colab-df-convert {\n",
              "      background-color: #E8F0FE;\n",
              "      border: none;\n",
              "      border-radius: 50%;\n",
              "      cursor: pointer;\n",
              "      display: none;\n",
              "      fill: #1967D2;\n",
              "      height: 32px;\n",
              "      padding: 0 0 0 0;\n",
              "      width: 32px;\n",
              "    }\n",
              "\n",
              "    .colab-df-convert:hover {\n",
              "      background-color: #E2EBFA;\n",
              "      box-shadow: 0px 1px 2px rgba(60, 64, 67, 0.3), 0px 1px 3px 1px rgba(60, 64, 67, 0.15);\n",
              "      fill: #174EA6;\n",
              "    }\n",
              "\n",
              "    [theme=dark] .colab-df-convert {\n",
              "      background-color: #3B4455;\n",
              "      fill: #D2E3FC;\n",
              "    }\n",
              "\n",
              "    [theme=dark] .colab-df-convert:hover {\n",
              "      background-color: #434B5C;\n",
              "      box-shadow: 0px 1px 3px 1px rgba(0, 0, 0, 0.15);\n",
              "      filter: drop-shadow(0px 1px 2px rgba(0, 0, 0, 0.3));\n",
              "      fill: #FFFFFF;\n",
              "    }\n",
              "  </style>\n",
              "\n",
              "      <script>\n",
              "        const buttonEl =\n",
              "          document.querySelector('#df-50c624b6-2619-4e90-9012-e610361731b4 button.colab-df-convert');\n",
              "        buttonEl.style.display =\n",
              "          google.colab.kernel.accessAllowed ? 'block' : 'none';\n",
              "\n",
              "        async function convertToInteractive(key) {\n",
              "          const element = document.querySelector('#df-50c624b6-2619-4e90-9012-e610361731b4');\n",
              "          const dataTable =\n",
              "            await google.colab.kernel.invokeFunction('convertToInteractive',\n",
              "                                                     [key], {});\n",
              "          if (!dataTable) return;\n",
              "\n",
              "          const docLinkHtml = 'Like what you see? Visit the ' +\n",
              "            '<a target=\"_blank\" href=https://colab.research.google.com/notebooks/data_table.ipynb>data table notebook</a>'\n",
              "            + ' to learn more about interactive tables.';\n",
              "          element.innerHTML = '';\n",
              "          dataTable['output_type'] = 'display_data';\n",
              "          await google.colab.output.renderOutput(dataTable, element);\n",
              "          const docLink = document.createElement('div');\n",
              "          docLink.innerHTML = docLinkHtml;\n",
              "          element.appendChild(docLink);\n",
              "        }\n",
              "      </script>\n",
              "    </div>\n",
              "  </div>\n",
              "  "
            ]
          },
          "metadata": {},
          "execution_count": 4
        }
      ]
    },
    {
      "cell_type": "markdown",
      "metadata": {
        "id": "-ZSQYANFHHgV"
      },
      "source": [
        "# Ejercicio 1 - Análisis descriptivo\n",
        "\n",
        "Responder a la pregunta: **¿Cuáles son los lenguajes de programación asociados a los mejores salarios?**\n",
        "\n",
        "Para ello:\n",
        "1. Seleccionar las columnas relevantes para analizar.\n",
        "2. Seleccionar las filas relevantes para analizar. Esto incluye la eliminación de valores extremos y erróneos, pero también puede enfocar el análisis en una sub-población. Por ejemplo, se pueden limitar a personas con un salario mayor que 10000 pesos, o a las personas que trabajan sólo en \"Data Science\", pero deben justificar su elección y reformular la pregunta inicial de ser necesario.\n",
        "  * Obtener una lista de los lenguajes de programación más populares. Decidir cuántos y cuáles seleccionan para incluir en el análisis.\n",
        "  * Para cada una de las otras columnas del punto anterior, elegir los rangos o valores seleccionan para incluir en el análisis.\n",
        "3. Seleccionar métricas que ayuden a responder la pregunta, y los métodos para analizarlas. Elegir UNA de las siguientes opciones:\n",
        "  * Comparar las distribuciones de salario para cada lenguaje utilizando visualizaciones. Como la visualización es el producto final, debe ser clara y mostrar información relevante.\n",
        "  * Comparar medidas de estadística descriptiva sobre la distribución de salario para cada lenguaje. Sean creativos, la estadística descriptiva nos permite decir cosas como: \"el 10% de los mejores sueldos los ganan, en su mayoría, programadores que saben kotlin!\" (donde *mayoría* es un término medio engañoso que sólo significa más del 50%). Para comparar múltiples lenguajes, les recomendamos usar también visualizaciones.\n",
        "  * Comparar probabilidades. Por ejemplo: \"Si sabés Python o Java, tenés un 30% más de chances de ganar arriba de 100K\".\n",
        "\n",
        "Si lo consideran necesario, realicen varias iteraciones. Es decir, si encuentran que las distribuciones de los lenguajes de programación que seleccionaron inicialmente no son muy diferentes, pueden re-hacer el análisis usando sólo los lenguajes de programación que son diferentes."
      ]
    },
    {
      "cell_type": "markdown",
      "source": [
        "# **RESPUESTAS EJERCICIO 1**"
      ],
      "metadata": {
        "id": "DuXUHZypTf3v"
      }
    },
    {
      "cell_type": "markdown",
      "source": [
        "#### Cantidad de filas y columnas del dataset:"
      ],
      "metadata": {
        "id": "nHu_F8X1uaAR"
      }
    },
    {
      "cell_type": "code",
      "source": [
        "df.shape"
      ],
      "metadata": {
        "colab": {
          "base_uri": "https://localhost:8080/"
        },
        "id": "PVkSOGNRuejR",
        "outputId": "f60e0856-f6e5-4237-c07b-e4ccdcf90b8e"
      },
      "execution_count": 5,
      "outputs": [
        {
          "output_type": "execute_result",
          "data": {
            "text/plain": [
              "(6095, 48)"
            ]
          },
          "metadata": {},
          "execution_count": 5
        }
      ]
    },
    {
      "cell_type": "markdown",
      "source": [
        "#### Información del dataset como la cantidad de columnas no nulas y el tipo de dato por columna:"
      ],
      "metadata": {
        "id": "nPkTFPT6tXvu"
      }
    },
    {
      "cell_type": "code",
      "source": [
        "df.info()"
      ],
      "metadata": {
        "colab": {
          "base_uri": "https://localhost:8080/"
        },
        "id": "rn9fDml_tlnO",
        "outputId": "ba3c3843-2ed1-4b2c-976d-85315b0aaba1"
      },
      "execution_count": 6,
      "outputs": [
        {
          "output_type": "stream",
          "name": "stdout",
          "text": [
            "<class 'pandas.core.frame.DataFrame'>\n",
            "RangeIndex: 6095 entries, 0 to 6094\n",
            "Data columns (total 48 columns):\n",
            " #   Column                                        Non-Null Count  Dtype  \n",
            "---  ------                                        --------------  -----  \n",
            " 0   profile_gender                                6095 non-null   object \n",
            " 1   profile_age                                   6095 non-null   int64  \n",
            " 2   work_country                                  6095 non-null   object \n",
            " 3   work_province                                 6095 non-null   object \n",
            " 4   profile_years_experience                      6095 non-null   float64\n",
            " 5   work_years_in_company                         6095 non-null   float64\n",
            " 6   work_years_in_current_position                6095 non-null   float64\n",
            " 7   work_people_in_charge_of                      6095 non-null   int64  \n",
            " 8   profile_studies_level                         6095 non-null   object \n",
            " 9   profile_studies_level_state                   6095 non-null   object \n",
            " 10  profile_career                                5796 non-null   object \n",
            " 11  profile_university                            5561 non-null   object \n",
            " 12  profile_specialization_courses                6095 non-null   object \n",
            " 13  profile_open_source_contributions             6095 non-null   object \n",
            " 14  profile_programming_as_hobby                  6095 non-null   object \n",
            " 15  work_role                                     6095 non-null   object \n",
            " 16  tools_platform                                6093 non-null   object \n",
            " 17  tools_programming_languages                   6094 non-null   object \n",
            " 18  tools_frameworks                              6094 non-null   object \n",
            " 19  tools_data_bases                              6093 non-null   object \n",
            " 20  tools_qa_testing                              6089 non-null   object \n",
            " 21  tools_IDEs                                    6094 non-null   object \n",
            " 22  tools_work_pc_os                              6095 non-null   object \n",
            " 23  tools_cellphone_os                            6095 non-null   object \n",
            " 24  work_on_call_duty                             6095 non-null   object \n",
            " 25  salary_on_call_duty_charge                    6095 non-null   float64\n",
            " 26  work_on_call_duty_charge_type                 6095 non-null   object \n",
            " 27  work_contract_type                            6095 non-null   object \n",
            " 28  salary_monthly_BRUTO                          6095 non-null   float64\n",
            " 29  salary_monthly_NETO                           5883 non-null   float64\n",
            " 30  salary_in_usd                                 676 non-null    object \n",
            " 31  salary_satisfaction                           6095 non-null   int64  \n",
            " 32  salary_comparison_last_semester               6095 non-null   int64  \n",
            " 33  salary_has_bonus                              6095 non-null   object \n",
            " 34  salary_bonus_tied_to                          6095 non-null   object \n",
            " 35  salary_inflation_adjustment_2020              6095 non-null   object \n",
            " 36  salary_percentage_inflation_adjustment_2020   6095 non-null   float64\n",
            " 37  salary_month_last_inflation_adjustment        6095 non-null   int64  \n",
            " 38  work_has_violence_situations                  5954 non-null   object \n",
            " 39  profile_sexual_orientation                    5912 non-null   object \n",
            " 40  profile_has_disabilities                      600 non-null    object \n",
            " 41  profile_has_disabilities_hiring_difficulties  2207 non-null   object \n",
            " 42  company_employee_number                       6095 non-null   object \n",
            " 43  company_main_activity                         6095 non-null   object \n",
            " 44  company_recommended                           6095 non-null   int64  \n",
            " 45  company_diversity_policies                    6095 non-null   int64  \n",
            " 46  company_extra_benefits                        6094 non-null   object \n",
            " 47  company_best_companies_city                   1692 non-null   object \n",
            "dtypes: float64(7), int64(7), object(34)\n",
            "memory usage: 2.2+ MB\n"
          ]
        }
      ]
    },
    {
      "cell_type": "markdown",
      "source": [
        "#### Vista acotada de los datos:\n",
        "\n",
        "\n"
      ],
      "metadata": {
        "id": "NRMDLQvHtH4e"
      }
    },
    {
      "cell_type": "code",
      "source": [
        "df.head(5)"
      ],
      "metadata": {
        "colab": {
          "base_uri": "https://localhost:8080/",
          "height": 456
        },
        "id": "zNo6HzrQtRZe",
        "outputId": "7939c950-3c6f-44d1-c788-d5e57d92cbb1"
      },
      "execution_count": 7,
      "outputs": [
        {
          "output_type": "execute_result",
          "data": {
            "text/plain": [
              "  profile_gender  profile_age work_country                    work_province  \\\n",
              "0          Mujer           26    Argentina  Ciudad Autónoma de Buenos Aires   \n",
              "1         Hombre           29    Argentina                       Corrientes   \n",
              "2          Mujer           22    Argentina  Ciudad Autónoma de Buenos Aires   \n",
              "3         Hombre           39    Argentina                       Corrientes   \n",
              "4         Hombre           32    Argentina  Ciudad Autónoma de Buenos Aires   \n",
              "\n",
              "   profile_years_experience  work_years_in_company  \\\n",
              "0                       3.0                    3.0   \n",
              "1                       5.0                    2.0   \n",
              "2                       2.0                    0.0   \n",
              "3                      15.0                   15.0   \n",
              "4                       9.0                    6.0   \n",
              "\n",
              "   work_years_in_current_position  work_people_in_charge_of  \\\n",
              "0                             3.0                         0   \n",
              "1                             2.0                         4   \n",
              "2                             0.0                         0   \n",
              "3                            13.0                         5   \n",
              "4                             6.0                         0   \n",
              "\n",
              "  profile_studies_level profile_studies_level_state  ...  \\\n",
              "0         Universitario                    En curso  ...   \n",
              "1         Universitario                    En curso  ...   \n",
              "2            Secundario                  Completado  ...   \n",
              "3              Posgrado                  Incompleto  ...   \n",
              "4         Universitario                    En curso  ...   \n",
              "\n",
              "  work_has_violence_situations profile_sexual_orientation  \\\n",
              "0         En mi trabajo actual                 Homosexual   \n",
              "1                        Jamás               Heterosexual   \n",
              "2       En un trabajo anterior           Bisexual o queer   \n",
              "3         En mi trabajo actual               Heterosexual   \n",
              "4                        Jamás               Heterosexual   \n",
              "\n",
              "  profile_has_disabilities profile_has_disabilities_hiring_difficulties  \\\n",
              "0                      NaN                                          NaN   \n",
              "1                   Visual                                           No   \n",
              "2                      NaN                                           No   \n",
              "3                      NaN                                          NaN   \n",
              "4                      NaN                                          NaN   \n",
              "\n",
              "  company_employee_number                          company_main_activity  \\\n",
              "0                501-1000  Servicios / Consultoría de Software / Digital   \n",
              "1                 201-500                               Otras industrias   \n",
              "2               2001-5000                               Otras industrias   \n",
              "3                501-1000                               Otras industrias   \n",
              "4                   11-50  Servicios / Consultoría de Software / Digital   \n",
              "\n",
              "  company_recommended company_diversity_policies  \\\n",
              "0                   7                          2   \n",
              "1                   8                          9   \n",
              "2                   6                          9   \n",
              "3                   7                          6   \n",
              "4                   6                          6   \n",
              "\n",
              "                              company_extra_benefits  \\\n",
              "0  Capacitaciones y/o cursos, Comidas pagas / sub...   \n",
              "1  Horarios flexibles, Stock options / RSUs, Viát...   \n",
              "2  Clases de gimnasia online, Comidas pagas / sub...   \n",
              "3  Abono de celular, Capacitaciones y/o cursos, C...   \n",
              "4  Clases de idiomas, Horarios flexibles, Vacacio...   \n",
              "\n",
              "  company_best_companies_city  \n",
              "0                         NaN  \n",
              "1                         NaN  \n",
              "2                         NaN  \n",
              "3                         NaN  \n",
              "4                         NaN  \n",
              "\n",
              "[5 rows x 48 columns]"
            ],
            "text/html": [
              "\n",
              "  <div id=\"df-01b81b62-f38b-493f-878b-1fa2743ca2f4\">\n",
              "    <div class=\"colab-df-container\">\n",
              "      <div>\n",
              "<style scoped>\n",
              "    .dataframe tbody tr th:only-of-type {\n",
              "        vertical-align: middle;\n",
              "    }\n",
              "\n",
              "    .dataframe tbody tr th {\n",
              "        vertical-align: top;\n",
              "    }\n",
              "\n",
              "    .dataframe thead th {\n",
              "        text-align: right;\n",
              "    }\n",
              "</style>\n",
              "<table border=\"1\" class=\"dataframe\">\n",
              "  <thead>\n",
              "    <tr style=\"text-align: right;\">\n",
              "      <th></th>\n",
              "      <th>profile_gender</th>\n",
              "      <th>profile_age</th>\n",
              "      <th>work_country</th>\n",
              "      <th>work_province</th>\n",
              "      <th>profile_years_experience</th>\n",
              "      <th>work_years_in_company</th>\n",
              "      <th>work_years_in_current_position</th>\n",
              "      <th>work_people_in_charge_of</th>\n",
              "      <th>profile_studies_level</th>\n",
              "      <th>profile_studies_level_state</th>\n",
              "      <th>...</th>\n",
              "      <th>work_has_violence_situations</th>\n",
              "      <th>profile_sexual_orientation</th>\n",
              "      <th>profile_has_disabilities</th>\n",
              "      <th>profile_has_disabilities_hiring_difficulties</th>\n",
              "      <th>company_employee_number</th>\n",
              "      <th>company_main_activity</th>\n",
              "      <th>company_recommended</th>\n",
              "      <th>company_diversity_policies</th>\n",
              "      <th>company_extra_benefits</th>\n",
              "      <th>company_best_companies_city</th>\n",
              "    </tr>\n",
              "  </thead>\n",
              "  <tbody>\n",
              "    <tr>\n",
              "      <th>0</th>\n",
              "      <td>Mujer</td>\n",
              "      <td>26</td>\n",
              "      <td>Argentina</td>\n",
              "      <td>Ciudad Autónoma de Buenos Aires</td>\n",
              "      <td>3.0</td>\n",
              "      <td>3.0</td>\n",
              "      <td>3.0</td>\n",
              "      <td>0</td>\n",
              "      <td>Universitario</td>\n",
              "      <td>En curso</td>\n",
              "      <td>...</td>\n",
              "      <td>En mi trabajo actual</td>\n",
              "      <td>Homosexual</td>\n",
              "      <td>NaN</td>\n",
              "      <td>NaN</td>\n",
              "      <td>501-1000</td>\n",
              "      <td>Servicios / Consultoría de Software / Digital</td>\n",
              "      <td>7</td>\n",
              "      <td>2</td>\n",
              "      <td>Capacitaciones y/o cursos, Comidas pagas / sub...</td>\n",
              "      <td>NaN</td>\n",
              "    </tr>\n",
              "    <tr>\n",
              "      <th>1</th>\n",
              "      <td>Hombre</td>\n",
              "      <td>29</td>\n",
              "      <td>Argentina</td>\n",
              "      <td>Corrientes</td>\n",
              "      <td>5.0</td>\n",
              "      <td>2.0</td>\n",
              "      <td>2.0</td>\n",
              "      <td>4</td>\n",
              "      <td>Universitario</td>\n",
              "      <td>En curso</td>\n",
              "      <td>...</td>\n",
              "      <td>Jamás</td>\n",
              "      <td>Heterosexual</td>\n",
              "      <td>Visual</td>\n",
              "      <td>No</td>\n",
              "      <td>201-500</td>\n",
              "      <td>Otras industrias</td>\n",
              "      <td>8</td>\n",
              "      <td>9</td>\n",
              "      <td>Horarios flexibles, Stock options / RSUs, Viát...</td>\n",
              "      <td>NaN</td>\n",
              "    </tr>\n",
              "    <tr>\n",
              "      <th>2</th>\n",
              "      <td>Mujer</td>\n",
              "      <td>22</td>\n",
              "      <td>Argentina</td>\n",
              "      <td>Ciudad Autónoma de Buenos Aires</td>\n",
              "      <td>2.0</td>\n",
              "      <td>0.0</td>\n",
              "      <td>0.0</td>\n",
              "      <td>0</td>\n",
              "      <td>Secundario</td>\n",
              "      <td>Completado</td>\n",
              "      <td>...</td>\n",
              "      <td>En un trabajo anterior</td>\n",
              "      <td>Bisexual o queer</td>\n",
              "      <td>NaN</td>\n",
              "      <td>No</td>\n",
              "      <td>2001-5000</td>\n",
              "      <td>Otras industrias</td>\n",
              "      <td>6</td>\n",
              "      <td>9</td>\n",
              "      <td>Clases de gimnasia online, Comidas pagas / sub...</td>\n",
              "      <td>NaN</td>\n",
              "    </tr>\n",
              "    <tr>\n",
              "      <th>3</th>\n",
              "      <td>Hombre</td>\n",
              "      <td>39</td>\n",
              "      <td>Argentina</td>\n",
              "      <td>Corrientes</td>\n",
              "      <td>15.0</td>\n",
              "      <td>15.0</td>\n",
              "      <td>13.0</td>\n",
              "      <td>5</td>\n",
              "      <td>Posgrado</td>\n",
              "      <td>Incompleto</td>\n",
              "      <td>...</td>\n",
              "      <td>En mi trabajo actual</td>\n",
              "      <td>Heterosexual</td>\n",
              "      <td>NaN</td>\n",
              "      <td>NaN</td>\n",
              "      <td>501-1000</td>\n",
              "      <td>Otras industrias</td>\n",
              "      <td>7</td>\n",
              "      <td>6</td>\n",
              "      <td>Abono de celular, Capacitaciones y/o cursos, C...</td>\n",
              "      <td>NaN</td>\n",
              "    </tr>\n",
              "    <tr>\n",
              "      <th>4</th>\n",
              "      <td>Hombre</td>\n",
              "      <td>32</td>\n",
              "      <td>Argentina</td>\n",
              "      <td>Ciudad Autónoma de Buenos Aires</td>\n",
              "      <td>9.0</td>\n",
              "      <td>6.0</td>\n",
              "      <td>6.0</td>\n",
              "      <td>0</td>\n",
              "      <td>Universitario</td>\n",
              "      <td>En curso</td>\n",
              "      <td>...</td>\n",
              "      <td>Jamás</td>\n",
              "      <td>Heterosexual</td>\n",
              "      <td>NaN</td>\n",
              "      <td>NaN</td>\n",
              "      <td>11-50</td>\n",
              "      <td>Servicios / Consultoría de Software / Digital</td>\n",
              "      <td>6</td>\n",
              "      <td>6</td>\n",
              "      <td>Clases de idiomas, Horarios flexibles, Vacacio...</td>\n",
              "      <td>NaN</td>\n",
              "    </tr>\n",
              "  </tbody>\n",
              "</table>\n",
              "<p>5 rows × 48 columns</p>\n",
              "</div>\n",
              "      <button class=\"colab-df-convert\" onclick=\"convertToInteractive('df-01b81b62-f38b-493f-878b-1fa2743ca2f4')\"\n",
              "              title=\"Convert this dataframe to an interactive table.\"\n",
              "              style=\"display:none;\">\n",
              "        \n",
              "  <svg xmlns=\"http://www.w3.org/2000/svg\" height=\"24px\"viewBox=\"0 0 24 24\"\n",
              "       width=\"24px\">\n",
              "    <path d=\"M0 0h24v24H0V0z\" fill=\"none\"/>\n",
              "    <path d=\"M18.56 5.44l.94 2.06.94-2.06 2.06-.94-2.06-.94-.94-2.06-.94 2.06-2.06.94zm-11 1L8.5 8.5l.94-2.06 2.06-.94-2.06-.94L8.5 2.5l-.94 2.06-2.06.94zm10 10l.94 2.06.94-2.06 2.06-.94-2.06-.94-.94-2.06-.94 2.06-2.06.94z\"/><path d=\"M17.41 7.96l-1.37-1.37c-.4-.4-.92-.59-1.43-.59-.52 0-1.04.2-1.43.59L10.3 9.45l-7.72 7.72c-.78.78-.78 2.05 0 2.83L4 21.41c.39.39.9.59 1.41.59.51 0 1.02-.2 1.41-.59l7.78-7.78 2.81-2.81c.8-.78.8-2.07 0-2.86zM5.41 20L4 18.59l7.72-7.72 1.47 1.35L5.41 20z\"/>\n",
              "  </svg>\n",
              "      </button>\n",
              "      \n",
              "  <style>\n",
              "    .colab-df-container {\n",
              "      display:flex;\n",
              "      flex-wrap:wrap;\n",
              "      gap: 12px;\n",
              "    }\n",
              "\n",
              "    .colab-df-convert {\n",
              "      background-color: #E8F0FE;\n",
              "      border: none;\n",
              "      border-radius: 50%;\n",
              "      cursor: pointer;\n",
              "      display: none;\n",
              "      fill: #1967D2;\n",
              "      height: 32px;\n",
              "      padding: 0 0 0 0;\n",
              "      width: 32px;\n",
              "    }\n",
              "\n",
              "    .colab-df-convert:hover {\n",
              "      background-color: #E2EBFA;\n",
              "      box-shadow: 0px 1px 2px rgba(60, 64, 67, 0.3), 0px 1px 3px 1px rgba(60, 64, 67, 0.15);\n",
              "      fill: #174EA6;\n",
              "    }\n",
              "\n",
              "    [theme=dark] .colab-df-convert {\n",
              "      background-color: #3B4455;\n",
              "      fill: #D2E3FC;\n",
              "    }\n",
              "\n",
              "    [theme=dark] .colab-df-convert:hover {\n",
              "      background-color: #434B5C;\n",
              "      box-shadow: 0px 1px 3px 1px rgba(0, 0, 0, 0.15);\n",
              "      filter: drop-shadow(0px 1px 2px rgba(0, 0, 0, 0.3));\n",
              "      fill: #FFFFFF;\n",
              "    }\n",
              "  </style>\n",
              "\n",
              "      <script>\n",
              "        const buttonEl =\n",
              "          document.querySelector('#df-01b81b62-f38b-493f-878b-1fa2743ca2f4 button.colab-df-convert');\n",
              "        buttonEl.style.display =\n",
              "          google.colab.kernel.accessAllowed ? 'block' : 'none';\n",
              "\n",
              "        async function convertToInteractive(key) {\n",
              "          const element = document.querySelector('#df-01b81b62-f38b-493f-878b-1fa2743ca2f4');\n",
              "          const dataTable =\n",
              "            await google.colab.kernel.invokeFunction('convertToInteractive',\n",
              "                                                     [key], {});\n",
              "          if (!dataTable) return;\n",
              "\n",
              "          const docLinkHtml = 'Like what you see? Visit the ' +\n",
              "            '<a target=\"_blank\" href=https://colab.research.google.com/notebooks/data_table.ipynb>data table notebook</a>'\n",
              "            + ' to learn more about interactive tables.';\n",
              "          element.innerHTML = '';\n",
              "          dataTable['output_type'] = 'display_data';\n",
              "          await google.colab.output.renderOutput(dataTable, element);\n",
              "          const docLink = document.createElement('div');\n",
              "          docLink.innerHTML = docLinkHtml;\n",
              "          element.appendChild(docLink);\n",
              "        }\n",
              "      </script>\n",
              "    </div>\n",
              "  </div>\n",
              "  "
            ]
          },
          "metadata": {},
          "execution_count": 7
        }
      ]
    },
    {
      "cell_type": "markdown",
      "source": [
        "#### 1.1 Selección de las columnas relevamentes para analizar.\n",
        "\n",
        "Principalmente se va a enfocar el analisis en las columnas:\n",
        "\n",
        "\n",
        "*   salary_in_usd\n",
        "*   salary_monthly_BRUTO\n",
        "*   tools_programming_languages\n",
        "\n"
      ],
      "metadata": {
        "id": "qyGWlIp5xL8o"
      }
    },
    {
      "cell_type": "code",
      "metadata": {
        "id": "6dqTEr7cZgvl"
      },
      "source": [
        "relevant_columns = ['tools_programming_languages', 'salary_monthly_BRUTO', 'salary_in_usd']"
      ],
      "execution_count": 8,
      "outputs": []
    },
    {
      "cell_type": "markdown",
      "source": [
        "#### Inspección de valores de la columna salary_in_usd:\n",
        "\n",
        "*   Elemento de la lista\n",
        "*   Elemento de la lista\n",
        "\n"
      ],
      "metadata": {
        "id": "YscSissq76Uv"
      }
    },
    {
      "cell_type": "code",
      "source": [
        "df.salary_in_usd.unique()"
      ],
      "metadata": {
        "colab": {
          "base_uri": "https://localhost:8080/"
        },
        "id": "wxc5N0kV4_we",
        "outputId": "576ae9e2-fd2c-44f2-d19f-3ff586548efc"
      },
      "execution_count": 9,
      "outputs": [
        {
          "output_type": "execute_result",
          "data": {
            "text/plain": [
              "array([nan, 'Mi sueldo está dolarizado'], dtype=object)"
            ]
          },
          "metadata": {},
          "execution_count": 9
        }
      ]
    },
    {
      "cell_type": "markdown",
      "source": [
        "#### Se reemplazan los valores nulos en la columna salary_in_usd por *Mi sueldo no está dolarizado*:"
      ],
      "metadata": {
        "id": "AAKXu_8Y97lm"
      }
    },
    {
      "cell_type": "code",
      "source": [
        "df.salary_in_usd = df.salary_in_usd.fillna('Mi sueldo no está dolarizado')\n"
      ],
      "metadata": {
        "id": "dln9TyRJ7n02"
      },
      "execution_count": 10,
      "outputs": []
    },
    {
      "cell_type": "markdown",
      "source": [
        "#### Se comprueba nuevamente los valores únicos de la columna salary_in_usd:"
      ],
      "metadata": {
        "id": "-aOQ69XvAW7J"
      }
    },
    {
      "cell_type": "code",
      "source": [
        "df.salary_in_usd.unique()"
      ],
      "metadata": {
        "colab": {
          "base_uri": "https://localhost:8080/"
        },
        "id": "cRz8-Hvb-haa",
        "outputId": "cae61101-7d22-4911-fc63-1d5c755c2155"
      },
      "execution_count": 11,
      "outputs": [
        {
          "output_type": "execute_result",
          "data": {
            "text/plain": [
              "array(['Mi sueldo no está dolarizado', 'Mi sueldo está dolarizado'],\n",
              "      dtype=object)"
            ]
          },
          "metadata": {},
          "execution_count": 11
        }
      ]
    },
    {
      "cell_type": "markdown",
      "source": [
        "#### 1.2 Se plantea la siguiente hipótesis:\n",
        "**Un salario en dólares es un mejor salario.**\n",
        "\n",
        "*Tomando que un mejor salario es un mayor salario.*"
      ],
      "metadata": {
        "id": "4a5xHpeMsolG"
      }
    },
    {
      "cell_type": "markdown",
      "source": [
        "#### Cantidad de sueldos dolarizados y NO dolarizados:\n",
        "\n",
        "\n"
      ],
      "metadata": {
        "id": "NRPoar2lAiGs"
      }
    },
    {
      "cell_type": "code",
      "source": [
        "#Sueldo dolarizados.\n",
        "\n",
        "df[df['salary_in_usd'] == 'Mi sueldo está dolarizado'].shape[0]"
      ],
      "metadata": {
        "colab": {
          "base_uri": "https://localhost:8080/"
        },
        "id": "htnH7HjUA7to",
        "outputId": "c10dea0c-42db-4034-b6df-96aa659fffdf"
      },
      "execution_count": 12,
      "outputs": [
        {
          "output_type": "execute_result",
          "data": {
            "text/plain": [
              "676"
            ]
          },
          "metadata": {},
          "execution_count": 12
        }
      ]
    },
    {
      "cell_type": "code",
      "source": [
        "#Sueldo no dolarizados.\n",
        "\n",
        "\n",
        "df[df['salary_in_usd'] == 'Mi sueldo no está dolarizado'].shape[0]"
      ],
      "metadata": {
        "colab": {
          "base_uri": "https://localhost:8080/"
        },
        "id": "VUdYjzFgBbLs",
        "outputId": "583d9ee4-1416-4f85-aca5-0da2efcb5829"
      },
      "execution_count": 13,
      "outputs": [
        {
          "output_type": "execute_result",
          "data": {
            "text/plain": [
              "5419"
            ]
          },
          "metadata": {},
          "execution_count": 13
        }
      ]
    },
    {
      "cell_type": "markdown",
      "source": [
        "#### Como se planteó precedentemente, nuestra hipótesis parte de que un sueldo dolarizado es un mejor salario, entonces se va a analizar esa premisa:"
      ],
      "metadata": {
        "id": "guacv5rIS0H0"
      }
    },
    {
      "cell_type": "code",
      "source": [
        "# De esta manera seteo las opciones, en 2 decimales y agrego el simbolo $ a los valores.\n",
        "\n",
        "pd.options.display.float_format = '${:,.2f}'.format"
      ],
      "metadata": {
        "id": "4Uh0jNUsUIlu"
      },
      "execution_count": 14,
      "outputs": []
    },
    {
      "cell_type": "code",
      "source": [
        "#Descripción de datos sin filtros\n",
        "\n",
        "df.salary_monthly_BRUTO.describe()"
      ],
      "metadata": {
        "colab": {
          "base_uri": "https://localhost:8080/"
        },
        "id": "BUAXZrnkYxkB",
        "outputId": "fdea54f0-23c6-41ff-e18e-e5cbcda10880"
      },
      "execution_count": 15,
      "outputs": [
        {
          "output_type": "execute_result",
          "data": {
            "text/plain": [
              "count       $6,095.00\n",
              "mean      $124,058.55\n",
              "std       $122,912.35\n",
              "min             $1.00\n",
              "25%        $61,595.00\n",
              "50%        $96,000.00\n",
              "75%       $145,000.00\n",
              "max     $2,180,000.00\n",
              "Name: salary_monthly_BRUTO, dtype: float64"
            ]
          },
          "metadata": {},
          "execution_count": 15
        }
      ]
    },
    {
      "cell_type": "code",
      "source": [
        "#Descripción de datos agrupado por salario en dólares:\n",
        "\n",
        "df['salary_monthly_BRUTO'].groupby(df['salary_in_usd']).describe()"
      ],
      "metadata": {
        "colab": {
          "base_uri": "https://localhost:8080/",
          "height": 143
        },
        "id": "J61MtWm7TIgg",
        "outputId": "8b16b48b-fadf-4587-b006-4694823e3f42"
      },
      "execution_count": 16,
      "outputs": [
        {
          "output_type": "execute_result",
          "data": {
            "text/plain": [
              "                                 count        mean         std   min  \\\n",
              "salary_in_usd                                                          \n",
              "Mi sueldo está dolarizado      $676.00 $261,119.12 $225,551.83 $2.00   \n",
              "Mi sueldo no está dolarizado $5,419.00 $106,960.76  $89,543.62 $1.00   \n",
              "\n",
              "                                     25%         50%         75%           max  \n",
              "salary_in_usd                                                                   \n",
              "Mi sueldo está dolarizado    $119,805.00 $195,500.00 $350,000.00 $2,080,000.00  \n",
              "Mi sueldo no está dolarizado  $60,000.00  $90,000.00 $134,000.00 $2,180,000.00  "
            ],
            "text/html": [
              "\n",
              "  <div id=\"df-40345038-5a72-47e0-a17d-d9bb00b335ef\">\n",
              "    <div class=\"colab-df-container\">\n",
              "      <div>\n",
              "<style scoped>\n",
              "    .dataframe tbody tr th:only-of-type {\n",
              "        vertical-align: middle;\n",
              "    }\n",
              "\n",
              "    .dataframe tbody tr th {\n",
              "        vertical-align: top;\n",
              "    }\n",
              "\n",
              "    .dataframe thead th {\n",
              "        text-align: right;\n",
              "    }\n",
              "</style>\n",
              "<table border=\"1\" class=\"dataframe\">\n",
              "  <thead>\n",
              "    <tr style=\"text-align: right;\">\n",
              "      <th></th>\n",
              "      <th>count</th>\n",
              "      <th>mean</th>\n",
              "      <th>std</th>\n",
              "      <th>min</th>\n",
              "      <th>25%</th>\n",
              "      <th>50%</th>\n",
              "      <th>75%</th>\n",
              "      <th>max</th>\n",
              "    </tr>\n",
              "    <tr>\n",
              "      <th>salary_in_usd</th>\n",
              "      <th></th>\n",
              "      <th></th>\n",
              "      <th></th>\n",
              "      <th></th>\n",
              "      <th></th>\n",
              "      <th></th>\n",
              "      <th></th>\n",
              "      <th></th>\n",
              "    </tr>\n",
              "  </thead>\n",
              "  <tbody>\n",
              "    <tr>\n",
              "      <th>Mi sueldo está dolarizado</th>\n",
              "      <td>$676.00</td>\n",
              "      <td>$261,119.12</td>\n",
              "      <td>$225,551.83</td>\n",
              "      <td>$2.00</td>\n",
              "      <td>$119,805.00</td>\n",
              "      <td>$195,500.00</td>\n",
              "      <td>$350,000.00</td>\n",
              "      <td>$2,080,000.00</td>\n",
              "    </tr>\n",
              "    <tr>\n",
              "      <th>Mi sueldo no está dolarizado</th>\n",
              "      <td>$5,419.00</td>\n",
              "      <td>$106,960.76</td>\n",
              "      <td>$89,543.62</td>\n",
              "      <td>$1.00</td>\n",
              "      <td>$60,000.00</td>\n",
              "      <td>$90,000.00</td>\n",
              "      <td>$134,000.00</td>\n",
              "      <td>$2,180,000.00</td>\n",
              "    </tr>\n",
              "  </tbody>\n",
              "</table>\n",
              "</div>\n",
              "      <button class=\"colab-df-convert\" onclick=\"convertToInteractive('df-40345038-5a72-47e0-a17d-d9bb00b335ef')\"\n",
              "              title=\"Convert this dataframe to an interactive table.\"\n",
              "              style=\"display:none;\">\n",
              "        \n",
              "  <svg xmlns=\"http://www.w3.org/2000/svg\" height=\"24px\"viewBox=\"0 0 24 24\"\n",
              "       width=\"24px\">\n",
              "    <path d=\"M0 0h24v24H0V0z\" fill=\"none\"/>\n",
              "    <path d=\"M18.56 5.44l.94 2.06.94-2.06 2.06-.94-2.06-.94-.94-2.06-.94 2.06-2.06.94zm-11 1L8.5 8.5l.94-2.06 2.06-.94-2.06-.94L8.5 2.5l-.94 2.06-2.06.94zm10 10l.94 2.06.94-2.06 2.06-.94-2.06-.94-.94-2.06-.94 2.06-2.06.94z\"/><path d=\"M17.41 7.96l-1.37-1.37c-.4-.4-.92-.59-1.43-.59-.52 0-1.04.2-1.43.59L10.3 9.45l-7.72 7.72c-.78.78-.78 2.05 0 2.83L4 21.41c.39.39.9.59 1.41.59.51 0 1.02-.2 1.41-.59l7.78-7.78 2.81-2.81c.8-.78.8-2.07 0-2.86zM5.41 20L4 18.59l7.72-7.72 1.47 1.35L5.41 20z\"/>\n",
              "  </svg>\n",
              "      </button>\n",
              "      \n",
              "  <style>\n",
              "    .colab-df-container {\n",
              "      display:flex;\n",
              "      flex-wrap:wrap;\n",
              "      gap: 12px;\n",
              "    }\n",
              "\n",
              "    .colab-df-convert {\n",
              "      background-color: #E8F0FE;\n",
              "      border: none;\n",
              "      border-radius: 50%;\n",
              "      cursor: pointer;\n",
              "      display: none;\n",
              "      fill: #1967D2;\n",
              "      height: 32px;\n",
              "      padding: 0 0 0 0;\n",
              "      width: 32px;\n",
              "    }\n",
              "\n",
              "    .colab-df-convert:hover {\n",
              "      background-color: #E2EBFA;\n",
              "      box-shadow: 0px 1px 2px rgba(60, 64, 67, 0.3), 0px 1px 3px 1px rgba(60, 64, 67, 0.15);\n",
              "      fill: #174EA6;\n",
              "    }\n",
              "\n",
              "    [theme=dark] .colab-df-convert {\n",
              "      background-color: #3B4455;\n",
              "      fill: #D2E3FC;\n",
              "    }\n",
              "\n",
              "    [theme=dark] .colab-df-convert:hover {\n",
              "      background-color: #434B5C;\n",
              "      box-shadow: 0px 1px 3px 1px rgba(0, 0, 0, 0.15);\n",
              "      filter: drop-shadow(0px 1px 2px rgba(0, 0, 0, 0.3));\n",
              "      fill: #FFFFFF;\n",
              "    }\n",
              "  </style>\n",
              "\n",
              "      <script>\n",
              "        const buttonEl =\n",
              "          document.querySelector('#df-40345038-5a72-47e0-a17d-d9bb00b335ef button.colab-df-convert');\n",
              "        buttonEl.style.display =\n",
              "          google.colab.kernel.accessAllowed ? 'block' : 'none';\n",
              "\n",
              "        async function convertToInteractive(key) {\n",
              "          const element = document.querySelector('#df-40345038-5a72-47e0-a17d-d9bb00b335ef');\n",
              "          const dataTable =\n",
              "            await google.colab.kernel.invokeFunction('convertToInteractive',\n",
              "                                                     [key], {});\n",
              "          if (!dataTable) return;\n",
              "\n",
              "          const docLinkHtml = 'Like what you see? Visit the ' +\n",
              "            '<a target=\"_blank\" href=https://colab.research.google.com/notebooks/data_table.ipynb>data table notebook</a>'\n",
              "            + ' to learn more about interactive tables.';\n",
              "          element.innerHTML = '';\n",
              "          dataTable['output_type'] = 'display_data';\n",
              "          await google.colab.output.renderOutput(dataTable, element);\n",
              "          const docLink = document.createElement('div');\n",
              "          docLink.innerHTML = docLinkHtml;\n",
              "          element.appendChild(docLink);\n",
              "        }\n",
              "      </script>\n",
              "    </div>\n",
              "  </div>\n",
              "  "
            ]
          },
          "metadata": {},
          "execution_count": 16
        }
      ]
    },
    {
      "cell_type": "markdown",
      "source": [
        "#### Se agrega un gráfico para una mejor visualización de los datos."
      ],
      "metadata": {
        "id": "aN9_N6uvlFhc"
      }
    },
    {
      "cell_type": "code",
      "source": [
        "fig = plt.figure(figsize=(15,10))\n",
        "\n",
        "seaborn.boxplot(data = df,\n",
        "                x = 'salary_monthly_BRUTO',\n",
        "                y = 'salary_in_usd',\n",
        "                color = '#77d1e6',            \n",
        "               )\n",
        "\n",
        "plt.ticklabel_format(style = 'plain',\n",
        "                     axis = 'x'\n",
        "                    )\n",
        "\n",
        "plt.xlabel('Salario mensual bruto')\n",
        "plt.ylabel('')\n",
        "\n",
        "plt.show()"
      ],
      "metadata": {
        "colab": {
          "base_uri": "https://localhost:8080/",
          "height": 627
        },
        "id": "xCSyRb2FlJqL",
        "outputId": "4797c7fb-477e-4fb7-d31c-b06a25f2aaf1"
      },
      "execution_count": 17,
      "outputs": [
        {
          "output_type": "display_data",
          "data": {
            "text/plain": [
              "<Figure size 1080x720 with 1 Axes>"
            ],
            "image/png": "[encoded data removed]"
          },
          "metadata": {
            "needs_background": "light"
          }
        }
      ]
    },
    {
      "cell_type": "markdown",
      "source": [
        "#### Observando los datos resultados de la descripción de datos para los 3 casos descritos en la parte de arriba, se encuentra que el sueldo dolarizado es mejor ya que es mayor.\n",
        "\n",
        "Hay que tener en cuenta que se tienen mínimos demasiados bajos que dan la pauta que pueden haber errores en los datos por ende se van a eliminar valores extremos para tener un análisis más enfocado en valores reales.\n",
        "\n",
        "Investigando se tiene que el salario mínimo, vital y móvil para el periódo en el que se realizó la encuesta (Octubre 2020) era de $18.900 , por lo que parece un buen parámetro para filtrar el dataset y que sea el mínimo de la columna salary_monthly_BRUTO.\n",
        "Para el caso de los máximos se considera que existen casos particulares que pueden cobrar esos salarios altos.\n",
        "\n",
        "A continuación se muestra el código implementando este filtro:\n"
      ],
      "metadata": {
        "id": "kvKhSm3gZR-J"
      }
    },
    {
      "cell_type": "code",
      "source": [
        "# Se crea un nuevo dataset con sólo los valores de salario mensual bruto mayores a $18.900\n",
        "\n",
        "dfn = df.loc[df['salary_monthly_BRUTO'] > 18900]\n",
        "\n",
        "# Se muestra nuevamente la descripción de los datos agrupados por salario en dólares:\n",
        "\n",
        "dfn['salary_monthly_BRUTO'].groupby(dfn['salary_in_usd']).describe()"
      ],
      "metadata": {
        "colab": {
          "base_uri": "https://localhost:8080/",
          "height": 143
        },
        "id": "cT6hfP9zbNiZ",
        "outputId": "b32c5a62-5726-46c6-a644-c1a2a5cdf518"
      },
      "execution_count": 18,
      "outputs": [
        {
          "output_type": "execute_result",
          "data": {
            "text/plain": [
              "                                 count        mean         std        min  \\\n",
              "salary_in_usd                                                               \n",
              "Mi sueldo está dolarizado      $652.00 $270,676.76 $223,991.28 $20,000.00   \n",
              "Mi sueldo no está dolarizado $5,210.00 $111,127.09  $88,816.10 $19,925.00   \n",
              "\n",
              "                                     25%         50%         75%           max  \n",
              "salary_in_usd                                                                   \n",
              "Mi sueldo está dolarizado    $122,250.00 $200,000.00 $350,000.00 $2,080,000.00  \n",
              "Mi sueldo no está dolarizado  $63,000.00  $93,000.00 $136,000.00 $2,180,000.00  "
            ],
            "text/html": [
              "\n",
              "  <div id=\"df-ecf0d109-c4da-45b2-9966-aba0175620e8\">\n",
              "    <div class=\"colab-df-container\">\n",
              "      <div>\n",
              "<style scoped>\n",
              "    .dataframe tbody tr th:only-of-type {\n",
              "        vertical-align: middle;\n",
              "    }\n",
              "\n",
              "    .dataframe tbody tr th {\n",
              "        vertical-align: top;\n",
              "    }\n",
              "\n",
              "    .dataframe thead th {\n",
              "        text-align: right;\n",
              "    }\n",
              "</style>\n",
              "<table border=\"1\" class=\"dataframe\">\n",
              "  <thead>\n",
              "    <tr style=\"text-align: right;\">\n",
              "      <th></th>\n",
              "      <th>count</th>\n",
              "      <th>mean</th>\n",
              "      <th>std</th>\n",
              "      <th>min</th>\n",
              "      <th>25%</th>\n",
              "      <th>50%</th>\n",
              "      <th>75%</th>\n",
              "      <th>max</th>\n",
              "    </tr>\n",
              "    <tr>\n",
              "      <th>salary_in_usd</th>\n",
              "      <th></th>\n",
              "      <th></th>\n",
              "      <th></th>\n",
              "      <th></th>\n",
              "      <th></th>\n",
              "      <th></th>\n",
              "      <th></th>\n",
              "      <th></th>\n",
              "    </tr>\n",
              "  </thead>\n",
              "  <tbody>\n",
              "    <tr>\n",
              "      <th>Mi sueldo está dolarizado</th>\n",
              "      <td>$652.00</td>\n",
              "      <td>$270,676.76</td>\n",
              "      <td>$223,991.28</td>\n",
              "      <td>$20,000.00</td>\n",
              "      <td>$122,250.00</td>\n",
              "      <td>$200,000.00</td>\n",
              "      <td>$350,000.00</td>\n",
              "      <td>$2,080,000.00</td>\n",
              "    </tr>\n",
              "    <tr>\n",
              "      <th>Mi sueldo no está dolarizado</th>\n",
              "      <td>$5,210.00</td>\n",
              "      <td>$111,127.09</td>\n",
              "      <td>$88,816.10</td>\n",
              "      <td>$19,925.00</td>\n",
              "      <td>$63,000.00</td>\n",
              "      <td>$93,000.00</td>\n",
              "      <td>$136,000.00</td>\n",
              "      <td>$2,180,000.00</td>\n",
              "    </tr>\n",
              "  </tbody>\n",
              "</table>\n",
              "</div>\n",
              "      <button class=\"colab-df-convert\" onclick=\"convertToInteractive('df-ecf0d109-c4da-45b2-9966-aba0175620e8')\"\n",
              "              title=\"Convert this dataframe to an interactive table.\"\n",
              "              style=\"display:none;\">\n",
              "        \n",
              "  <svg xmlns=\"http://www.w3.org/2000/svg\" height=\"24px\"viewBox=\"0 0 24 24\"\n",
              "       width=\"24px\">\n",
              "    <path d=\"M0 0h24v24H0V0z\" fill=\"none\"/>\n",
              "    <path d=\"M18.56 5.44l.94 2.06.94-2.06 2.06-.94-2.06-.94-.94-2.06-.94 2.06-2.06.94zm-11 1L8.5 8.5l.94-2.06 2.06-.94-2.06-.94L8.5 2.5l-.94 2.06-2.06.94zm10 10l.94 2.06.94-2.06 2.06-.94-2.06-.94-.94-2.06-.94 2.06-2.06.94z\"/><path d=\"M17.41 7.96l-1.37-1.37c-.4-.4-.92-.59-1.43-.59-.52 0-1.04.2-1.43.59L10.3 9.45l-7.72 7.72c-.78.78-.78 2.05 0 2.83L4 21.41c.39.39.9.59 1.41.59.51 0 1.02-.2 1.41-.59l7.78-7.78 2.81-2.81c.8-.78.8-2.07 0-2.86zM5.41 20L4 18.59l7.72-7.72 1.47 1.35L5.41 20z\"/>\n",
              "  </svg>\n",
              "      </button>\n",
              "      \n",
              "  <style>\n",
              "    .colab-df-container {\n",
              "      display:flex;\n",
              "      flex-wrap:wrap;\n",
              "      gap: 12px;\n",
              "    }\n",
              "\n",
              "    .colab-df-convert {\n",
              "      background-color: #E8F0FE;\n",
              "      border: none;\n",
              "      border-radius: 50%;\n",
              "      cursor: pointer;\n",
              "      display: none;\n",
              "      fill: #1967D2;\n",
              "      height: 32px;\n",
              "      padding: 0 0 0 0;\n",
              "      width: 32px;\n",
              "    }\n",
              "\n",
              "    .colab-df-convert:hover {\n",
              "      background-color: #E2EBFA;\n",
              "      box-shadow: 0px 1px 2px rgba(60, 64, 67, 0.3), 0px 1px 3px 1px rgba(60, 64, 67, 0.15);\n",
              "      fill: #174EA6;\n",
              "    }\n",
              "\n",
              "    [theme=dark] .colab-df-convert {\n",
              "      background-color: #3B4455;\n",
              "      fill: #D2E3FC;\n",
              "    }\n",
              "\n",
              "    [theme=dark] .colab-df-convert:hover {\n",
              "      background-color: #434B5C;\n",
              "      box-shadow: 0px 1px 3px 1px rgba(0, 0, 0, 0.15);\n",
              "      filter: drop-shadow(0px 1px 2px rgba(0, 0, 0, 0.3));\n",
              "      fill: #FFFFFF;\n",
              "    }\n",
              "  </style>\n",
              "\n",
              "      <script>\n",
              "        const buttonEl =\n",
              "          document.querySelector('#df-ecf0d109-c4da-45b2-9966-aba0175620e8 button.colab-df-convert');\n",
              "        buttonEl.style.display =\n",
              "          google.colab.kernel.accessAllowed ? 'block' : 'none';\n",
              "\n",
              "        async function convertToInteractive(key) {\n",
              "          const element = document.querySelector('#df-ecf0d109-c4da-45b2-9966-aba0175620e8');\n",
              "          const dataTable =\n",
              "            await google.colab.kernel.invokeFunction('convertToInteractive',\n",
              "                                                     [key], {});\n",
              "          if (!dataTable) return;\n",
              "\n",
              "          const docLinkHtml = 'Like what you see? Visit the ' +\n",
              "            '<a target=\"_blank\" href=https://colab.research.google.com/notebooks/data_table.ipynb>data table notebook</a>'\n",
              "            + ' to learn more about interactive tables.';\n",
              "          element.innerHTML = '';\n",
              "          dataTable['output_type'] = 'display_data';\n",
              "          await google.colab.output.renderOutput(dataTable, element);\n",
              "          const docLink = document.createElement('div');\n",
              "          docLink.innerHTML = docLinkHtml;\n",
              "          element.appendChild(docLink);\n",
              "        }\n",
              "      </script>\n",
              "    </div>\n",
              "  </div>\n",
              "  "
            ]
          },
          "metadata": {},
          "execution_count": 18
        }
      ]
    },
    {
      "cell_type": "markdown",
      "source": [
        "#### Se observa que la diferencia en los datos es mínima, por lo que los mínimos no generan una afectación de importancia en la descripción de los datos."
      ],
      "metadata": {
        "id": "fk316dE1bCMU"
      }
    },
    {
      "cell_type": "markdown",
      "source": [
        "#### Se genera un nuevo dataset **utilizando únicamente los salarios en dólares**\n",
        "\n"
      ],
      "metadata": {
        "id": "NsPjFceSc_RH"
      }
    },
    {
      "cell_type": "code",
      "source": [
        "dfusd = df.loc[df['salary_in_usd'] == 'Mi sueldo está dolarizado']\n",
        "\n",
        "dfusd"
      ],
      "metadata": {
        "colab": {
          "base_uri": "https://localhost:8080/",
          "height": 800
        },
        "id": "7I2Tmy5Tdd1-",
        "outputId": "a44df3e7-235a-4b06-8cc5-7a144f38caaa"
      },
      "execution_count": 19,
      "outputs": [
        {
          "output_type": "execute_result",
          "data": {
            "text/plain": [
              "     profile_gender  profile_age work_country  \\\n",
              "14           Hombre           42    Argentina   \n",
              "25            Mujer           30    Argentina   \n",
              "41           Hombre           35    Argentina   \n",
              "43           Hombre           45    Argentina   \n",
              "60           Hombre           50    Argentina   \n",
              "...             ...          ...          ...   \n",
              "6021         Hombre           35    Argentina   \n",
              "6024         Hombre           39    Argentina   \n",
              "6079         Hombre           28    Argentina   \n",
              "6080         Hombre           30    Argentina   \n",
              "6084          Mujer           30    Argentina   \n",
              "\n",
              "                        work_province  profile_years_experience  \\\n",
              "14                            Córdoba                    $10.00   \n",
              "25    Ciudad Autónoma de Buenos Aires                    $12.00   \n",
              "41    Ciudad Autónoma de Buenos Aires                    $15.00   \n",
              "43                            Córdoba                    $29.00   \n",
              "60    Ciudad Autónoma de Buenos Aires                    $30.00   \n",
              "...                               ...                       ...   \n",
              "6021  Ciudad Autónoma de Buenos Aires                    $14.00   \n",
              "6024                         Santa Fe                    $18.00   \n",
              "6079        Provincia de Buenos Aires                     $2.00   \n",
              "6080                         San Luis                     $5.00   \n",
              "6084  Ciudad Autónoma de Buenos Aires                     $5.00   \n",
              "\n",
              "      work_years_in_company  work_years_in_current_position  \\\n",
              "14                    $0.00                           $0.00   \n",
              "25                    $0.00                           $4.00   \n",
              "41                    $3.00                           $1.50   \n",
              "43                    $2.00                           $2.00   \n",
              "60                    $4.00                           $4.00   \n",
              "...                     ...                             ...   \n",
              "6021                  $1.00                           $8.00   \n",
              "6024                  $2.00                           $2.00   \n",
              "6079                  $0.00                           $2.00   \n",
              "6080                  $2.00                           $2.00   \n",
              "6084                  $0.00                           $0.00   \n",
              "\n",
              "      work_people_in_charge_of profile_studies_level  \\\n",
              "14                           3         Universitario   \n",
              "25                          14         Universitario   \n",
              "41                          16         Universitario   \n",
              "43                           0         Universitario   \n",
              "60                          24         Universitario   \n",
              "...                        ...                   ...   \n",
              "6021                         0         Universitario   \n",
              "6024                         0         Universitario   \n",
              "6079                         0         Universitario   \n",
              "6080                         0             Terciario   \n",
              "6084                         0         Universitario   \n",
              "\n",
              "     profile_studies_level_state  ... work_has_violence_situations  \\\n",
              "14                    Incompleto  ...                        Jamás   \n",
              "25                    Completado  ...       En un trabajo anterior   \n",
              "41                    Incompleto  ...                        Jamás   \n",
              "43                    Incompleto  ...         En mi trabajo actual   \n",
              "60                    Incompleto  ...       En un trabajo anterior   \n",
              "...                          ...  ...                          ...   \n",
              "6021                  Completado  ...       En un trabajo anterior   \n",
              "6024                  Completado  ...                        Jamás   \n",
              "6079                  Incompleto  ...                        Jamás   \n",
              "6080                  Incompleto  ...       En un trabajo anterior   \n",
              "6084                  Completado  ...       En un trabajo anterior   \n",
              "\n",
              "     profile_sexual_orientation profile_has_disabilities  \\\n",
              "14                 Heterosexual                      NaN   \n",
              "25                 Heterosexual                      NaN   \n",
              "41                 Heterosexual                      NaN   \n",
              "43                 Heterosexual                      NaN   \n",
              "60            ¿Qué les importa?                      NaN   \n",
              "...                         ...                      ...   \n",
              "6021               Heterosexual                      NaN   \n",
              "6024          ¿Qué les importa?                      NaN   \n",
              "6079               Heterosexual                      NaN   \n",
              "6080               Heterosexual                      NaN   \n",
              "6084               Heterosexual                      NaN   \n",
              "\n",
              "     profile_has_disabilities_hiring_difficulties company_employee_number  \\\n",
              "14                                            NaN               2001-5000   \n",
              "25                                            NaN                   11-50   \n",
              "41                                             No                 201-500   \n",
              "43                                            NaN                   11-50   \n",
              "60                                            NaN                    1-10   \n",
              "...                                           ...                     ...   \n",
              "6021                                          NaN                 201-500   \n",
              "6024                                          NaN                 101-200   \n",
              "6079                                          NaN                 201-500   \n",
              "6080                                           No                501-1000   \n",
              "6084                                          NaN                 101-200   \n",
              "\n",
              "                              company_main_activity company_recommended  \\\n",
              "14    Servicios / Consultoría de Software / Digital                   3   \n",
              "25    Servicios / Consultoría de Software / Digital                   8   \n",
              "41                      Producto basado en Software                   9   \n",
              "43    Servicios / Consultoría de Software / Digital                   9   \n",
              "60                      Producto basado en Software                   9   \n",
              "...                                             ...                 ...   \n",
              "6021                    Producto basado en Software                  10   \n",
              "6024                    Producto basado en Software                   7   \n",
              "6079  Servicios / Consultoría de Software / Digital                  10   \n",
              "6080  Servicios / Consultoría de Software / Digital                  10   \n",
              "6084  Servicios / Consultoría de Software / Digital                   8   \n",
              "\n",
              "     company_diversity_policies  \\\n",
              "14                            7   \n",
              "25                            4   \n",
              "41                           10   \n",
              "43                            7   \n",
              "60                            6   \n",
              "...                         ...   \n",
              "6021                         10   \n",
              "6024                          9   \n",
              "6079                          8   \n",
              "6080                         10   \n",
              "6084                          5   \n",
              "\n",
              "                                 company_extra_benefits  \\\n",
              "14    Descuentos varios (Mercado Pago, Clarín 365, C...   \n",
              "25    Clases de idiomas, Horarios flexibles, Vacacio...   \n",
              "41    Abono de celular, Capacitaciones y/o cursos, C...   \n",
              "43                                    Clases de idiomas   \n",
              "60    Cuota para universidad / posgrados, Horarios f...   \n",
              "...                                                 ...   \n",
              "6021  Comidas pagas / subvencionadas, Estacionamient...   \n",
              "6024  Horarios flexibles, Vacaciones flexibles (adic...   \n",
              "6079                          Ninguna de las anteriores   \n",
              "6080  Clases de idiomas, Estacionamiento gratuito / ...   \n",
              "6084  Capacitaciones y/o cursos, Clases de idiomas, ...   \n",
              "\n",
              "            company_best_companies_city  \n",
              "14                                  NaN  \n",
              "25                                  NaN  \n",
              "41            Medallia, auth0, wildlife  \n",
              "43                                  NaN  \n",
              "60                                  NaN  \n",
              "...                                 ...  \n",
              "6021                                NaN  \n",
              "6024                                NaN  \n",
              "6079                                NaN  \n",
              "6080  Init ag, Computercenter, DKB, n26  \n",
              "6084                                NaN  \n",
              "\n",
              "[676 rows x 48 columns]"
            ],
            "text/html": [
              "\n",
              "  <div id=\"df-766e69df-6cd5-4171-9a60-0ea62c2d5ec8\">\n",
              "    <div class=\"colab-df-container\">\n",
              "      <div>\n",
              "<style scoped>\n",
              "    .dataframe tbody tr th:only-of-type {\n",
              "        vertical-align: middle;\n",
              "    }\n",
              "\n",
              "    .dataframe tbody tr th {\n",
              "        vertical-align: top;\n",
              "    }\n",
              "\n",
              "    .dataframe thead th {\n",
              "        text-align: right;\n",
              "    }\n",
              "</style>\n",
              "<table border=\"1\" class=\"dataframe\">\n",
              "  <thead>\n",
              "    <tr style=\"text-align: right;\">\n",
              "      <th></th>\n",
              "      <th>profile_gender</th>\n",
              "      <th>profile_age</th>\n",
              "      <th>work_country</th>\n",
              "      <th>work_province</th>\n",
              "      <th>profile_years_experience</th>\n",
              "      <th>work_years_in_company</th>\n",
              "      <th>work_years_in_current_position</th>\n",
              "      <th>work_people_in_charge_of</th>\n",
              "      <th>profile_studies_level</th>\n",
              "      <th>profile_studies_level_state</th>\n",
              "      <th>...</th>\n",
              "      <th>work_has_violence_situations</th>\n",
              "      <th>profile_sexual_orientation</th>\n",
              "      <th>profile_has_disabilities</th>\n",
              "      <th>profile_has_disabilities_hiring_difficulties</th>\n",
              "      <th>company_employee_number</th>\n",
              "      <th>company_main_activity</th>\n",
              "      <th>company_recommended</th>\n",
              "      <th>company_diversity_policies</th>\n",
              "      <th>company_extra_benefits</th>\n",
              "      <th>company_best_companies_city</th>\n",
              "    </tr>\n",
              "  </thead>\n",
              "  <tbody>\n",
              "    <tr>\n",
              "      <th>14</th>\n",
              "      <td>Hombre</td>\n",
              "      <td>42</td>\n",
              "      <td>Argentina</td>\n",
              "      <td>Córdoba</td>\n",
              "      <td>$10.00</td>\n",
              "      <td>$0.00</td>\n",
              "      <td>$0.00</td>\n",
              "      <td>3</td>\n",
              "      <td>Universitario</td>\n",
              "      <td>Incompleto</td>\n",
              "      <td>...</td>\n",
              "      <td>Jamás</td>\n",
              "      <td>Heterosexual</td>\n",
              "      <td>NaN</td>\n",
              "      <td>NaN</td>\n",
              "      <td>2001-5000</td>\n",
              "      <td>Servicios / Consultoría de Software / Digital</td>\n",
              "      <td>3</td>\n",
              "      <td>7</td>\n",
              "      <td>Descuentos varios (Mercado Pago, Clarín 365, C...</td>\n",
              "      <td>NaN</td>\n",
              "    </tr>\n",
              "    <tr>\n",
              "      <th>25</th>\n",
              "      <td>Mujer</td>\n",
              "      <td>30</td>\n",
              "      <td>Argentina</td>\n",
              "      <td>Ciudad Autónoma de Buenos Aires</td>\n",
              "      <td>$12.00</td>\n",
              "      <td>$0.00</td>\n",
              "      <td>$4.00</td>\n",
              "      <td>14</td>\n",
              "      <td>Universitario</td>\n",
              "      <td>Completado</td>\n",
              "      <td>...</td>\n",
              "      <td>En un trabajo anterior</td>\n",
              "      <td>Heterosexual</td>\n",
              "      <td>NaN</td>\n",
              "      <td>NaN</td>\n",
              "      <td>11-50</td>\n",
              "      <td>Servicios / Consultoría de Software / Digital</td>\n",
              "      <td>8</td>\n",
              "      <td>4</td>\n",
              "      <td>Clases de idiomas, Horarios flexibles, Vacacio...</td>\n",
              "      <td>NaN</td>\n",
              "    </tr>\n",
              "    <tr>\n",
              "      <th>41</th>\n",
              "      <td>Hombre</td>\n",
              "      <td>35</td>\n",
              "      <td>Argentina</td>\n",
              "      <td>Ciudad Autónoma de Buenos Aires</td>\n",
              "      <td>$15.00</td>\n",
              "      <td>$3.00</td>\n",
              "      <td>$1.50</td>\n",
              "      <td>16</td>\n",
              "      <td>Universitario</td>\n",
              "      <td>Incompleto</td>\n",
              "      <td>...</td>\n",
              "      <td>Jamás</td>\n",
              "      <td>Heterosexual</td>\n",
              "      <td>NaN</td>\n",
              "      <td>No</td>\n",
              "      <td>201-500</td>\n",
              "      <td>Producto basado en Software</td>\n",
              "      <td>9</td>\n",
              "      <td>10</td>\n",
              "      <td>Abono de celular, Capacitaciones y/o cursos, C...</td>\n",
              "      <td>Medallia, auth0, wildlife</td>\n",
              "    </tr>\n",
              "    <tr>\n",
              "      <th>43</th>\n",
              "      <td>Hombre</td>\n",
              "      <td>45</td>\n",
              "      <td>Argentina</td>\n",
              "      <td>Córdoba</td>\n",
              "      <td>$29.00</td>\n",
              "      <td>$2.00</td>\n",
              "      <td>$2.00</td>\n",
              "      <td>0</td>\n",
              "      <td>Universitario</td>\n",
              "      <td>Incompleto</td>\n",
              "      <td>...</td>\n",
              "      <td>En mi trabajo actual</td>\n",
              "      <td>Heterosexual</td>\n",
              "      <td>NaN</td>\n",
              "      <td>NaN</td>\n",
              "      <td>11-50</td>\n",
              "      <td>Servicios / Consultoría de Software / Digital</td>\n",
              "      <td>9</td>\n",
              "      <td>7</td>\n",
              "      <td>Clases de idiomas</td>\n",
              "      <td>NaN</td>\n",
              "    </tr>\n",
              "    <tr>\n",
              "      <th>60</th>\n",
              "      <td>Hombre</td>\n",
              "      <td>50</td>\n",
              "      <td>Argentina</td>\n",
              "      <td>Ciudad Autónoma de Buenos Aires</td>\n",
              "      <td>$30.00</td>\n",
              "      <td>$4.00</td>\n",
              "      <td>$4.00</td>\n",
              "      <td>24</td>\n",
              "      <td>Universitario</td>\n",
              "      <td>Incompleto</td>\n",
              "      <td>...</td>\n",
              "      <td>En un trabajo anterior</td>\n",
              "      <td>¿Qué les importa?</td>\n",
              "      <td>NaN</td>\n",
              "      <td>NaN</td>\n",
              "      <td>1-10</td>\n",
              "      <td>Producto basado en Software</td>\n",
              "      <td>9</td>\n",
              "      <td>6</td>\n",
              "      <td>Cuota para universidad / posgrados, Horarios f...</td>\n",
              "      <td>NaN</td>\n",
              "    </tr>\n",
              "    <tr>\n",
              "      <th>...</th>\n",
              "      <td>...</td>\n",
              "      <td>...</td>\n",
              "      <td>...</td>\n",
              "      <td>...</td>\n",
              "      <td>...</td>\n",
              "      <td>...</td>\n",
              "      <td>...</td>\n",
              "      <td>...</td>\n",
              "      <td>...</td>\n",
              "      <td>...</td>\n",
              "      <td>...</td>\n",
              "      <td>...</td>\n",
              "      <td>...</td>\n",
              "      <td>...</td>\n",
              "      <td>...</td>\n",
              "      <td>...</td>\n",
              "      <td>...</td>\n",
              "      <td>...</td>\n",
              "      <td>...</td>\n",
              "      <td>...</td>\n",
              "      <td>...</td>\n",
              "    </tr>\n",
              "    <tr>\n",
              "      <th>6021</th>\n",
              "      <td>Hombre</td>\n",
              "      <td>35</td>\n",
              "      <td>Argentina</td>\n",
              "      <td>Ciudad Autónoma de Buenos Aires</td>\n",
              "      <td>$14.00</td>\n",
              "      <td>$1.00</td>\n",
              "      <td>$8.00</td>\n",
              "      <td>0</td>\n",
              "      <td>Universitario</td>\n",
              "      <td>Completado</td>\n",
              "      <td>...</td>\n",
              "      <td>En un trabajo anterior</td>\n",
              "      <td>Heterosexual</td>\n",
              "      <td>NaN</td>\n",
              "      <td>NaN</td>\n",
              "      <td>201-500</td>\n",
              "      <td>Producto basado en Software</td>\n",
              "      <td>10</td>\n",
              "      <td>10</td>\n",
              "      <td>Comidas pagas / subvencionadas, Estacionamient...</td>\n",
              "      <td>NaN</td>\n",
              "    </tr>\n",
              "    <tr>\n",
              "      <th>6024</th>\n",
              "      <td>Hombre</td>\n",
              "      <td>39</td>\n",
              "      <td>Argentina</td>\n",
              "      <td>Santa Fe</td>\n",
              "      <td>$18.00</td>\n",
              "      <td>$2.00</td>\n",
              "      <td>$2.00</td>\n",
              "      <td>0</td>\n",
              "      <td>Universitario</td>\n",
              "      <td>Completado</td>\n",
              "      <td>...</td>\n",
              "      <td>Jamás</td>\n",
              "      <td>¿Qué les importa?</td>\n",
              "      <td>NaN</td>\n",
              "      <td>NaN</td>\n",
              "      <td>101-200</td>\n",
              "      <td>Producto basado en Software</td>\n",
              "      <td>7</td>\n",
              "      <td>9</td>\n",
              "      <td>Horarios flexibles, Vacaciones flexibles (adic...</td>\n",
              "      <td>NaN</td>\n",
              "    </tr>\n",
              "    <tr>\n",
              "      <th>6079</th>\n",
              "      <td>Hombre</td>\n",
              "      <td>28</td>\n",
              "      <td>Argentina</td>\n",
              "      <td>Provincia de Buenos Aires</td>\n",
              "      <td>$2.00</td>\n",
              "      <td>$0.00</td>\n",
              "      <td>$2.00</td>\n",
              "      <td>0</td>\n",
              "      <td>Universitario</td>\n",
              "      <td>Incompleto</td>\n",
              "      <td>...</td>\n",
              "      <td>Jamás</td>\n",
              "      <td>Heterosexual</td>\n",
              "      <td>NaN</td>\n",
              "      <td>NaN</td>\n",
              "      <td>201-500</td>\n",
              "      <td>Servicios / Consultoría de Software / Digital</td>\n",
              "      <td>10</td>\n",
              "      <td>8</td>\n",
              "      <td>Ninguna de las anteriores</td>\n",
              "      <td>NaN</td>\n",
              "    </tr>\n",
              "    <tr>\n",
              "      <th>6080</th>\n",
              "      <td>Hombre</td>\n",
              "      <td>30</td>\n",
              "      <td>Argentina</td>\n",
              "      <td>San Luis</td>\n",
              "      <td>$5.00</td>\n",
              "      <td>$2.00</td>\n",
              "      <td>$2.00</td>\n",
              "      <td>0</td>\n",
              "      <td>Terciario</td>\n",
              "      <td>Incompleto</td>\n",
              "      <td>...</td>\n",
              "      <td>En un trabajo anterior</td>\n",
              "      <td>Heterosexual</td>\n",
              "      <td>NaN</td>\n",
              "      <td>No</td>\n",
              "      <td>501-1000</td>\n",
              "      <td>Servicios / Consultoría de Software / Digital</td>\n",
              "      <td>10</td>\n",
              "      <td>10</td>\n",
              "      <td>Clases de idiomas, Estacionamiento gratuito / ...</td>\n",
              "      <td>Init ag, Computercenter, DKB, n26</td>\n",
              "    </tr>\n",
              "    <tr>\n",
              "      <th>6084</th>\n",
              "      <td>Mujer</td>\n",
              "      <td>30</td>\n",
              "      <td>Argentina</td>\n",
              "      <td>Ciudad Autónoma de Buenos Aires</td>\n",
              "      <td>$5.00</td>\n",
              "      <td>$0.00</td>\n",
              "      <td>$0.00</td>\n",
              "      <td>0</td>\n",
              "      <td>Universitario</td>\n",
              "      <td>Completado</td>\n",
              "      <td>...</td>\n",
              "      <td>En un trabajo anterior</td>\n",
              "      <td>Heterosexual</td>\n",
              "      <td>NaN</td>\n",
              "      <td>NaN</td>\n",
              "      <td>101-200</td>\n",
              "      <td>Servicios / Consultoría de Software / Digital</td>\n",
              "      <td>8</td>\n",
              "      <td>5</td>\n",
              "      <td>Capacitaciones y/o cursos, Clases de idiomas, ...</td>\n",
              "      <td>NaN</td>\n",
              "    </tr>\n",
              "  </tbody>\n",
              "</table>\n",
              "<p>676 rows × 48 columns</p>\n",
              "</div>\n",
              "      <button class=\"colab-df-convert\" onclick=\"convertToInteractive('df-766e69df-6cd5-4171-9a60-0ea62c2d5ec8')\"\n",
              "              title=\"Convert this dataframe to an interactive table.\"\n",
              "              style=\"display:none;\">\n",
              "        \n",
              "  <svg xmlns=\"http://www.w3.org/2000/svg\" height=\"24px\"viewBox=\"0 0 24 24\"\n",
              "       width=\"24px\">\n",
              "    <path d=\"M0 0h24v24H0V0z\" fill=\"none\"/>\n",
              "    <path d=\"M18.56 5.44l.94 2.06.94-2.06 2.06-.94-2.06-.94-.94-2.06-.94 2.06-2.06.94zm-11 1L8.5 8.5l.94-2.06 2.06-.94-2.06-.94L8.5 2.5l-.94 2.06-2.06.94zm10 10l.94 2.06.94-2.06 2.06-.94-2.06-.94-.94-2.06-.94 2.06-2.06.94z\"/><path d=\"M17.41 7.96l-1.37-1.37c-.4-.4-.92-.59-1.43-.59-.52 0-1.04.2-1.43.59L10.3 9.45l-7.72 7.72c-.78.78-.78 2.05 0 2.83L4 21.41c.39.39.9.59 1.41.59.51 0 1.02-.2 1.41-.59l7.78-7.78 2.81-2.81c.8-.78.8-2.07 0-2.86zM5.41 20L4 18.59l7.72-7.72 1.47 1.35L5.41 20z\"/>\n",
              "  </svg>\n",
              "      </button>\n",
              "      \n",
              "  <style>\n",
              "    .colab-df-container {\n",
              "      display:flex;\n",
              "      flex-wrap:wrap;\n",
              "      gap: 12px;\n",
              "    }\n",
              "\n",
              "    .colab-df-convert {\n",
              "      background-color: #E8F0FE;\n",
              "      border: none;\n",
              "      border-radius: 50%;\n",
              "      cursor: pointer;\n",
              "      display: none;\n",
              "      fill: #1967D2;\n",
              "      height: 32px;\n",
              "      padding: 0 0 0 0;\n",
              "      width: 32px;\n",
              "    }\n",
              "\n",
              "    .colab-df-convert:hover {\n",
              "      background-color: #E2EBFA;\n",
              "      box-shadow: 0px 1px 2px rgba(60, 64, 67, 0.3), 0px 1px 3px 1px rgba(60, 64, 67, 0.15);\n",
              "      fill: #174EA6;\n",
              "    }\n",
              "\n",
              "    [theme=dark] .colab-df-convert {\n",
              "      background-color: #3B4455;\n",
              "      fill: #D2E3FC;\n",
              "    }\n",
              "\n",
              "    [theme=dark] .colab-df-convert:hover {\n",
              "      background-color: #434B5C;\n",
              "      box-shadow: 0px 1px 3px 1px rgba(0, 0, 0, 0.15);\n",
              "      filter: drop-shadow(0px 1px 2px rgba(0, 0, 0, 0.3));\n",
              "      fill: #FFFFFF;\n",
              "    }\n",
              "  </style>\n",
              "\n",
              "      <script>\n",
              "        const buttonEl =\n",
              "          document.querySelector('#df-766e69df-6cd5-4171-9a60-0ea62c2d5ec8 button.colab-df-convert');\n",
              "        buttonEl.style.display =\n",
              "          google.colab.kernel.accessAllowed ? 'block' : 'none';\n",
              "\n",
              "        async function convertToInteractive(key) {\n",
              "          const element = document.querySelector('#df-766e69df-6cd5-4171-9a60-0ea62c2d5ec8');\n",
              "          const dataTable =\n",
              "            await google.colab.kernel.invokeFunction('convertToInteractive',\n",
              "                                                     [key], {});\n",
              "          if (!dataTable) return;\n",
              "\n",
              "          const docLinkHtml = 'Like what you see? Visit the ' +\n",
              "            '<a target=\"_blank\" href=https://colab.research.google.com/notebooks/data_table.ipynb>data table notebook</a>'\n",
              "            + ' to learn more about interactive tables.';\n",
              "          element.innerHTML = '';\n",
              "          dataTable['output_type'] = 'display_data';\n",
              "          await google.colab.output.renderOutput(dataTable, element);\n",
              "          const docLink = document.createElement('div');\n",
              "          docLink.innerHTML = docLinkHtml;\n",
              "          element.appendChild(docLink);\n",
              "        }\n",
              "      </script>\n",
              "    </div>\n",
              "  </div>\n",
              "  "
            ]
          },
          "metadata": {},
          "execution_count": 19
        }
      ]
    },
    {
      "cell_type": "markdown",
      "metadata": {
        "id": "OoGgzMvuEocM"
      },
      "source": [
        "### Conteo de frecuencias de los lenguajes de programación de todo el DF\n",
        "\n",
        "La columna que contiene información sobre los lenguajes de programación utilizados es `tools_programming_languages`. Sus valores son strings con los lenguajes seleccionados separados por comas.\n",
        "\n"
      ]
    },
    {
      "cell_type": "code",
      "metadata": {
        "colab": {
          "base_uri": "https://localhost:8080/"
        },
        "id": "J7AB2Ty8SvNl",
        "outputId": "437e678f-1b51-4d81-8cb0-3121b6e32569"
      },
      "source": [
        "dfusd.tools_programming_languages.head()"
      ],
      "execution_count": 20,
      "outputs": [
        {
          "output_type": "execute_result",
          "data": {
            "text/plain": [
              "14    .NET, C#, Delphi, HTML, Java, Javascript, PHP,...\n",
              "25                                              Ninguno\n",
              "41                               Bash/Shell, Go, Python\n",
              "43                                           Bash/Shell\n",
              "60                                 C, C++, Java, Python\n",
              "Name: tools_programming_languages, dtype: object"
            ]
          },
          "metadata": {},
          "execution_count": 20
        }
      ]
    },
    {
      "cell_type": "markdown",
      "metadata": {
        "id": "l8bYmvMhSroH"
      },
      "source": [
        "Las siguientes celdas de código separan estos lenguajes de programación y cuentan la frecuencia con la que aparecen.\n",
        "\n"
      ]
    },
    {
      "cell_type": "code",
      "metadata": {
        "colab": {
          "base_uri": "https://localhost:8080/",
          "height": 316
        },
        "id": "PAQ81x3iUP_N",
        "outputId": "8c585890-f039-4ada-ff2f-cd2db9a1f1a2"
      },
      "source": [
        "# Convert the comma-separated string of languages to a list of string.\n",
        "# Remove 'ninguno de los anteriores' option, spaces and training commas.\n",
        "def split_languages(languages_str):\n",
        "  if not isinstance(languages_str, str):\n",
        "    return []\n",
        "  # Remove 'other' option\n",
        "  languages_str = languages_str.lower()\\\n",
        "    .replace('ninguno de los anteriores', '')\n",
        "  # Split string into list of items\n",
        "  # Remove spaces and commas for each item\n",
        "  return [lang.strip().replace(',', '')\n",
        "          for lang in languages_str.split()]\n",
        "\n",
        "# Create a new column with the list of languages\n",
        "dfusd.loc[:, 'cured_programming_languages'] = dfusd.tools_programming_languages\\\n",
        "    .apply(split_languages)\n",
        "if 'cured_programming_languages' not in relevant_columns:\n",
        "    relevant_columns.append('cured_programming_languages') \n",
        "\n",
        "# Duplicate each row of df for each programming language\n",
        "# mentioned in the response.\n",
        "# We only include in df_lang the columns we are going to analyze later, so we\n",
        "# don't duplicate innecesary information.\n",
        "dfusd_lang = dfusd.cured_programming_languages\\\n",
        "    .apply(pd.Series).stack()\\\n",
        "    .reset_index(level=-1, drop=True).to_frame()\\\n",
        "    .join(dfusd[relevant_columns])\\\n",
        "    .rename(columns={0: 'programming_language'})\n",
        "# Horrible programming style! But a lot of data science code can be written with\n",
        "# as concatenations of functions (pipelines), and there's no elegant way of\n",
        "# doing that on Python.\n",
        "dfusd_lang[:5]"
      ],
      "execution_count": 21,
      "outputs": [
        {
          "output_type": "stream",
          "name": "stderr",
          "text": [
            "/usr/local/lib/python3.7/dist-packages/pandas/core/indexing.py:1667: SettingWithCopyWarning: \n",
            "A value is trying to be set on a copy of a slice from a DataFrame.\n",
            "Try using .loc[row_indexer,col_indexer] = value instead\n",
            "\n",
            "See the caveats in the documentation: https://pandas.pydata.org/pandas-docs/stable/user_guide/indexing.html#returning-a-view-versus-a-copy\n",
            "  self.obj[key] = value\n"
          ]
        },
        {
          "output_type": "execute_result",
          "data": {
            "text/plain": [
              "   programming_language                        tools_programming_languages  \\\n",
              "14                 .net  .NET, C#, Delphi, HTML, Java, Javascript, PHP,...   \n",
              "14                   c#  .NET, C#, Delphi, HTML, Java, Javascript, PHP,...   \n",
              "14               delphi  .NET, C#, Delphi, HTML, Java, Javascript, PHP,...   \n",
              "14                 html  .NET, C#, Delphi, HTML, Java, Javascript, PHP,...   \n",
              "14                 java  .NET, C#, Delphi, HTML, Java, Javascript, PHP,...   \n",
              "\n",
              "    salary_monthly_BRUTO              salary_in_usd  \\\n",
              "14           $102,000.00  Mi sueldo está dolarizado   \n",
              "14           $102,000.00  Mi sueldo está dolarizado   \n",
              "14           $102,000.00  Mi sueldo está dolarizado   \n",
              "14           $102,000.00  Mi sueldo está dolarizado   \n",
              "14           $102,000.00  Mi sueldo está dolarizado   \n",
              "\n",
              "                          cured_programming_languages  \n",
              "14  [.net, c#, delphi, html, java, javascript, php...  \n",
              "14  [.net, c#, delphi, html, java, javascript, php...  \n",
              "14  [.net, c#, delphi, html, java, javascript, php...  \n",
              "14  [.net, c#, delphi, html, java, javascript, php...  \n",
              "14  [.net, c#, delphi, html, java, javascript, php...  "
            ],
            "text/html": [
              "\n",
              "  <div id=\"df-a15fec82-4820-4e6c-a6c1-a3eaae81a98b\">\n",
              "    <div class=\"colab-df-container\">\n",
              "      <div>\n",
              "<style scoped>\n",
              "    .dataframe tbody tr th:only-of-type {\n",
              "        vertical-align: middle;\n",
              "    }\n",
              "\n",
              "    .dataframe tbody tr th {\n",
              "        vertical-align: top;\n",
              "    }\n",
              "\n",
              "    .dataframe thead th {\n",
              "        text-align: right;\n",
              "    }\n",
              "</style>\n",
              "<table border=\"1\" class=\"dataframe\">\n",
              "  <thead>\n",
              "    <tr style=\"text-align: right;\">\n",
              "      <th></th>\n",
              "      <th>programming_language</th>\n",
              "      <th>tools_programming_languages</th>\n",
              "      <th>salary_monthly_BRUTO</th>\n",
              "      <th>salary_in_usd</th>\n",
              "      <th>cured_programming_languages</th>\n",
              "    </tr>\n",
              "  </thead>\n",
              "  <tbody>\n",
              "    <tr>\n",
              "      <th>14</th>\n",
              "      <td>.net</td>\n",
              "      <td>.NET, C#, Delphi, HTML, Java, Javascript, PHP,...</td>\n",
              "      <td>$102,000.00</td>\n",
              "      <td>Mi sueldo está dolarizado</td>\n",
              "      <td>[.net, c#, delphi, html, java, javascript, php...</td>\n",
              "    </tr>\n",
              "    <tr>\n",
              "      <th>14</th>\n",
              "      <td>c#</td>\n",
              "      <td>.NET, C#, Delphi, HTML, Java, Javascript, PHP,...</td>\n",
              "      <td>$102,000.00</td>\n",
              "      <td>Mi sueldo está dolarizado</td>\n",
              "      <td>[.net, c#, delphi, html, java, javascript, php...</td>\n",
              "    </tr>\n",
              "    <tr>\n",
              "      <th>14</th>\n",
              "      <td>delphi</td>\n",
              "      <td>.NET, C#, Delphi, HTML, Java, Javascript, PHP,...</td>\n",
              "      <td>$102,000.00</td>\n",
              "      <td>Mi sueldo está dolarizado</td>\n",
              "      <td>[.net, c#, delphi, html, java, javascript, php...</td>\n",
              "    </tr>\n",
              "    <tr>\n",
              "      <th>14</th>\n",
              "      <td>html</td>\n",
              "      <td>.NET, C#, Delphi, HTML, Java, Javascript, PHP,...</td>\n",
              "      <td>$102,000.00</td>\n",
              "      <td>Mi sueldo está dolarizado</td>\n",
              "      <td>[.net, c#, delphi, html, java, javascript, php...</td>\n",
              "    </tr>\n",
              "    <tr>\n",
              "      <th>14</th>\n",
              "      <td>java</td>\n",
              "      <td>.NET, C#, Delphi, HTML, Java, Javascript, PHP,...</td>\n",
              "      <td>$102,000.00</td>\n",
              "      <td>Mi sueldo está dolarizado</td>\n",
              "      <td>[.net, c#, delphi, html, java, javascript, php...</td>\n",
              "    </tr>\n",
              "  </tbody>\n",
              "</table>\n",
              "</div>\n",
              "      <button class=\"colab-df-convert\" onclick=\"convertToInteractive('df-a15fec82-4820-4e6c-a6c1-a3eaae81a98b')\"\n",
              "              title=\"Convert this dataframe to an interactive table.\"\n",
              "              style=\"display:none;\">\n",
              "        \n",
              "  <svg xmlns=\"http://www.w3.org/2000/svg\" height=\"24px\"viewBox=\"0 0 24 24\"\n",
              "       width=\"24px\">\n",
              "    <path d=\"M0 0h24v24H0V0z\" fill=\"none\"/>\n",
              "    <path d=\"M18.56 5.44l.94 2.06.94-2.06 2.06-.94-2.06-.94-.94-2.06-.94 2.06-2.06.94zm-11 1L8.5 8.5l.94-2.06 2.06-.94-2.06-.94L8.5 2.5l-.94 2.06-2.06.94zm10 10l.94 2.06.94-2.06 2.06-.94-2.06-.94-.94-2.06-.94 2.06-2.06.94z\"/><path d=\"M17.41 7.96l-1.37-1.37c-.4-.4-.92-.59-1.43-.59-.52 0-1.04.2-1.43.59L10.3 9.45l-7.72 7.72c-.78.78-.78 2.05 0 2.83L4 21.41c.39.39.9.59 1.41.59.51 0 1.02-.2 1.41-.59l7.78-7.78 2.81-2.81c.8-.78.8-2.07 0-2.86zM5.41 20L4 18.59l7.72-7.72 1.47 1.35L5.41 20z\"/>\n",
              "  </svg>\n",
              "      </button>\n",
              "      \n",
              "  <style>\n",
              "    .colab-df-container {\n",
              "      display:flex;\n",
              "      flex-wrap:wrap;\n",
              "      gap: 12px;\n",
              "    }\n",
              "\n",
              "    .colab-df-convert {\n",
              "      background-color: #E8F0FE;\n",
              "      border: none;\n",
              "      border-radius: 50%;\n",
              "      cursor: pointer;\n",
              "      display: none;\n",
              "      fill: #1967D2;\n",
              "      height: 32px;\n",
              "      padding: 0 0 0 0;\n",
              "      width: 32px;\n",
              "    }\n",
              "\n",
              "    .colab-df-convert:hover {\n",
              "      background-color: #E2EBFA;\n",
              "      box-shadow: 0px 1px 2px rgba(60, 64, 67, 0.3), 0px 1px 3px 1px rgba(60, 64, 67, 0.15);\n",
              "      fill: #174EA6;\n",
              "    }\n",
              "\n",
              "    [theme=dark] .colab-df-convert {\n",
              "      background-color: #3B4455;\n",
              "      fill: #D2E3FC;\n",
              "    }\n",
              "\n",
              "    [theme=dark] .colab-df-convert:hover {\n",
              "      background-color: #434B5C;\n",
              "      box-shadow: 0px 1px 3px 1px rgba(0, 0, 0, 0.15);\n",
              "      filter: drop-shadow(0px 1px 2px rgba(0, 0, 0, 0.3));\n",
              "      fill: #FFFFFF;\n",
              "    }\n",
              "  </style>\n",
              "\n",
              "      <script>\n",
              "        const buttonEl =\n",
              "          document.querySelector('#df-a15fec82-4820-4e6c-a6c1-a3eaae81a98b button.colab-df-convert');\n",
              "        buttonEl.style.display =\n",
              "          google.colab.kernel.accessAllowed ? 'block' : 'none';\n",
              "\n",
              "        async function convertToInteractive(key) {\n",
              "          const element = document.querySelector('#df-a15fec82-4820-4e6c-a6c1-a3eaae81a98b');\n",
              "          const dataTable =\n",
              "            await google.colab.kernel.invokeFunction('convertToInteractive',\n",
              "                                                     [key], {});\n",
              "          if (!dataTable) return;\n",
              "\n",
              "          const docLinkHtml = 'Like what you see? Visit the ' +\n",
              "            '<a target=\"_blank\" href=https://colab.research.google.com/notebooks/data_table.ipynb>data table notebook</a>'\n",
              "            + ' to learn more about interactive tables.';\n",
              "          element.innerHTML = '';\n",
              "          dataTable['output_type'] = 'display_data';\n",
              "          await google.colab.output.renderOutput(dataTable, element);\n",
              "          const docLink = document.createElement('div');\n",
              "          docLink.innerHTML = docLinkHtml;\n",
              "          element.appendChild(docLink);\n",
              "        }\n",
              "      </script>\n",
              "    </div>\n",
              "  </div>\n",
              "  "
            ]
          },
          "metadata": {},
          "execution_count": 21
        }
      ]
    },
    {
      "cell_type": "markdown",
      "metadata": {
        "id": "qm8NUg-7UEue"
      },
      "source": [
        "En la columna `programming_language` se encuentra cada lenguaje por separado. Notar que si una respuesta contenía 3 lenguajes, como `\"HTML, Javascript, Python\"`, la fila ha sido replicada 3 veces. Por ello, hay tres filas con índice 1."
      ]
    },
    {
      "cell_type": "markdown",
      "source": [
        "**Selección de los 5 lenguajes de programación con mayor frecuencia**"
      ],
      "metadata": {
        "id": "9ZZsz5HJeGVO"
      }
    },
    {
      "cell_type": "code",
      "metadata": {
        "colab": {
          "base_uri": "https://localhost:8080/",
          "height": 206
        },
        "id": "lNPb4tTvWCwv",
        "outputId": "c3b97c9c-e7ea-41bf-9255-7b878026764d"
      },
      "source": [
        "language_count = dfusd_lang.programming_language.value_counts()\\\n",
        "    .reset_index()\\\n",
        "    .rename(columns={'index': 'language', 'programming_language': 'frequency'})\n",
        "language_count[:5]"
      ],
      "execution_count": 22,
      "outputs": [
        {
          "output_type": "execute_result",
          "data": {
            "text/plain": [
              "     language  frequency\n",
              "0  javascript        347\n",
              "1        html        218\n",
              "2      python        209\n",
              "3         sql        186\n",
              "4         css        161"
            ],
            "text/html": [
              "\n",
              "  <div id=\"df-eecc6967-32ca-4972-ad96-19e74fafc16e\">\n",
              "    <div class=\"colab-df-container\">\n",
              "      <div>\n",
              "<style scoped>\n",
              "    .dataframe tbody tr th:only-of-type {\n",
              "        vertical-align: middle;\n",
              "    }\n",
              "\n",
              "    .dataframe tbody tr th {\n",
              "        vertical-align: top;\n",
              "    }\n",
              "\n",
              "    .dataframe thead th {\n",
              "        text-align: right;\n",
              "    }\n",
              "</style>\n",
              "<table border=\"1\" class=\"dataframe\">\n",
              "  <thead>\n",
              "    <tr style=\"text-align: right;\">\n",
              "      <th></th>\n",
              "      <th>language</th>\n",
              "      <th>frequency</th>\n",
              "    </tr>\n",
              "  </thead>\n",
              "  <tbody>\n",
              "    <tr>\n",
              "      <th>0</th>\n",
              "      <td>javascript</td>\n",
              "      <td>347</td>\n",
              "    </tr>\n",
              "    <tr>\n",
              "      <th>1</th>\n",
              "      <td>html</td>\n",
              "      <td>218</td>\n",
              "    </tr>\n",
              "    <tr>\n",
              "      <th>2</th>\n",
              "      <td>python</td>\n",
              "      <td>209</td>\n",
              "    </tr>\n",
              "    <tr>\n",
              "      <th>3</th>\n",
              "      <td>sql</td>\n",
              "      <td>186</td>\n",
              "    </tr>\n",
              "    <tr>\n",
              "      <th>4</th>\n",
              "      <td>css</td>\n",
              "      <td>161</td>\n",
              "    </tr>\n",
              "  </tbody>\n",
              "</table>\n",
              "</div>\n",
              "      <button class=\"colab-df-convert\" onclick=\"convertToInteractive('df-eecc6967-32ca-4972-ad96-19e74fafc16e')\"\n",
              "              title=\"Convert this dataframe to an interactive table.\"\n",
              "              style=\"display:none;\">\n",
              "        \n",
              "  <svg xmlns=\"http://www.w3.org/2000/svg\" height=\"24px\"viewBox=\"0 0 24 24\"\n",
              "       width=\"24px\">\n",
              "    <path d=\"M0 0h24v24H0V0z\" fill=\"none\"/>\n",
              "    <path d=\"M18.56 5.44l.94 2.06.94-2.06 2.06-.94-2.06-.94-.94-2.06-.94 2.06-2.06.94zm-11 1L8.5 8.5l.94-2.06 2.06-.94-2.06-.94L8.5 2.5l-.94 2.06-2.06.94zm10 10l.94 2.06.94-2.06 2.06-.94-2.06-.94-.94-2.06-.94 2.06-2.06.94z\"/><path d=\"M17.41 7.96l-1.37-1.37c-.4-.4-.92-.59-1.43-.59-.52 0-1.04.2-1.43.59L10.3 9.45l-7.72 7.72c-.78.78-.78 2.05 0 2.83L4 21.41c.39.39.9.59 1.41.59.51 0 1.02-.2 1.41-.59l7.78-7.78 2.81-2.81c.8-.78.8-2.07 0-2.86zM5.41 20L4 18.59l7.72-7.72 1.47 1.35L5.41 20z\"/>\n",
              "  </svg>\n",
              "      </button>\n",
              "      \n",
              "  <style>\n",
              "    .colab-df-container {\n",
              "      display:flex;\n",
              "      flex-wrap:wrap;\n",
              "      gap: 12px;\n",
              "    }\n",
              "\n",
              "    .colab-df-convert {\n",
              "      background-color: #E8F0FE;\n",
              "      border: none;\n",
              "      border-radius: 50%;\n",
              "      cursor: pointer;\n",
              "      display: none;\n",
              "      fill: #1967D2;\n",
              "      height: 32px;\n",
              "      padding: 0 0 0 0;\n",
              "      width: 32px;\n",
              "    }\n",
              "\n",
              "    .colab-df-convert:hover {\n",
              "      background-color: #E2EBFA;\n",
              "      box-shadow: 0px 1px 2px rgba(60, 64, 67, 0.3), 0px 1px 3px 1px rgba(60, 64, 67, 0.15);\n",
              "      fill: #174EA6;\n",
              "    }\n",
              "\n",
              "    [theme=dark] .colab-df-convert {\n",
              "      background-color: #3B4455;\n",
              "      fill: #D2E3FC;\n",
              "    }\n",
              "\n",
              "    [theme=dark] .colab-df-convert:hover {\n",
              "      background-color: #434B5C;\n",
              "      box-shadow: 0px 1px 3px 1px rgba(0, 0, 0, 0.15);\n",
              "      filter: drop-shadow(0px 1px 2px rgba(0, 0, 0, 0.3));\n",
              "      fill: #FFFFFF;\n",
              "    }\n",
              "  </style>\n",
              "\n",
              "      <script>\n",
              "        const buttonEl =\n",
              "          document.querySelector('#df-eecc6967-32ca-4972-ad96-19e74fafc16e button.colab-df-convert');\n",
              "        buttonEl.style.display =\n",
              "          google.colab.kernel.accessAllowed ? 'block' : 'none';\n",
              "\n",
              "        async function convertToInteractive(key) {\n",
              "          const element = document.querySelector('#df-eecc6967-32ca-4972-ad96-19e74fafc16e');\n",
              "          const dataTable =\n",
              "            await google.colab.kernel.invokeFunction('convertToInteractive',\n",
              "                                                     [key], {});\n",
              "          if (!dataTable) return;\n",
              "\n",
              "          const docLinkHtml = 'Like what you see? Visit the ' +\n",
              "            '<a target=\"_blank\" href=https://colab.research.google.com/notebooks/data_table.ipynb>data table notebook</a>'\n",
              "            + ' to learn more about interactive tables.';\n",
              "          element.innerHTML = '';\n",
              "          dataTable['output_type'] = 'display_data';\n",
              "          await google.colab.output.renderOutput(dataTable, element);\n",
              "          const docLink = document.createElement('div');\n",
              "          docLink.innerHTML = docLinkHtml;\n",
              "          element.appendChild(docLink);\n",
              "        }\n",
              "      </script>\n",
              "    </div>\n",
              "  </div>\n",
              "  "
            ]
          },
          "metadata": {},
          "execution_count": 22
        }
      ]
    },
    {
      "cell_type": "markdown",
      "metadata": {
        "id": "nThbJ1KeUgDo"
      },
      "source": [
        "## Filtrado de lenguajes relevantes\n",
        "\n",
        "El siguiente código permite seleccionar sólo las filas donde el valor de la columna `programming_language` se encuentre en la lista `interesting_languages`."
      ]
    },
    {
      "cell_type": "code",
      "metadata": {
        "colab": {
          "base_uri": "https://localhost:8080/",
          "height": 363
        },
        "id": "DEpVptnLZUQU",
        "outputId": "f259b396-6334-4cc3-904a-9ea228136db7"
      },
      "source": [
        "# Filter out languages that we want to exclude\n",
        "# Complete here with your selected list.\n",
        "interesting_languages = ['javascript', 'html','python', 'sql','css' ]\n",
        "\n",
        "filtered_df_lang = dfusd_lang[dfusd_lang.programming_language.isin(interesting_languages)]\n",
        "filtered_df_lang[:10]"
      ],
      "execution_count": 23,
      "outputs": [
        {
          "output_type": "execute_result",
          "data": {
            "text/plain": [
              "   programming_language                        tools_programming_languages  \\\n",
              "14                 html  .NET, C#, Delphi, HTML, Java, Javascript, PHP,...   \n",
              "14           javascript  .NET, C#, Delphi, HTML, Java, Javascript, PHP,...   \n",
              "14                  sql  .NET, C#, Delphi, HTML, Java, Javascript, PHP,...   \n",
              "41               python                             Bash/Shell, Go, Python   \n",
              "60               python                               C, C++, Java, Python   \n",
              "63           javascript           Go, Javascript, Python, Ruby, TypeScript   \n",
              "63               python           Go, Javascript, Python, Ruby, TypeScript   \n",
              "66                  css  CSS, Elixir, HTML, Javascript, Ruby, SQL, Type...   \n",
              "66                 html  CSS, Elixir, HTML, Javascript, Ruby, SQL, Type...   \n",
              "66           javascript  CSS, Elixir, HTML, Javascript, Ruby, SQL, Type...   \n",
              "\n",
              "    salary_monthly_BRUTO              salary_in_usd  \\\n",
              "14           $102,000.00  Mi sueldo está dolarizado   \n",
              "14           $102,000.00  Mi sueldo está dolarizado   \n",
              "14           $102,000.00  Mi sueldo está dolarizado   \n",
              "41           $450,000.00  Mi sueldo está dolarizado   \n",
              "60           $480,000.00  Mi sueldo está dolarizado   \n",
              "63           $170,200.00  Mi sueldo está dolarizado   \n",
              "63           $170,200.00  Mi sueldo está dolarizado   \n",
              "66           $283,000.00  Mi sueldo está dolarizado   \n",
              "66           $283,000.00  Mi sueldo está dolarizado   \n",
              "66           $283,000.00  Mi sueldo está dolarizado   \n",
              "\n",
              "                          cured_programming_languages  \n",
              "14  [.net, c#, delphi, html, java, javascript, php...  \n",
              "14  [.net, c#, delphi, html, java, javascript, php...  \n",
              "14  [.net, c#, delphi, html, java, javascript, php...  \n",
              "41                           [bash/shell, go, python]  \n",
              "60                             [c, c++, java, python]  \n",
              "63         [go, javascript, python, ruby, typescript]  \n",
              "63         [go, javascript, python, ruby, typescript]  \n",
              "66  [css, elixir, html, javascript, ruby, sql, typ...  \n",
              "66  [css, elixir, html, javascript, ruby, sql, typ...  \n",
              "66  [css, elixir, html, javascript, ruby, sql, typ...  "
            ],
            "text/html": [
              "\n",
              "  <div id=\"df-0da47699-7505-45ec-8ade-4c969d0645c5\">\n",
              "    <div class=\"colab-df-container\">\n",
              "      <div>\n",
              "<style scoped>\n",
              "    .dataframe tbody tr th:only-of-type {\n",
              "        vertical-align: middle;\n",
              "    }\n",
              "\n",
              "    .dataframe tbody tr th {\n",
              "        vertical-align: top;\n",
              "    }\n",
              "\n",
              "    .dataframe thead th {\n",
              "        text-align: right;\n",
              "    }\n",
              "</style>\n",
              "<table border=\"1\" class=\"dataframe\">\n",
              "  <thead>\n",
              "    <tr style=\"text-align: right;\">\n",
              "      <th></th>\n",
              "      <th>programming_language</th>\n",
              "      <th>tools_programming_languages</th>\n",
              "      <th>salary_monthly_BRUTO</th>\n",
              "      <th>salary_in_usd</th>\n",
              "      <th>cured_programming_languages</th>\n",
              "    </tr>\n",
              "  </thead>\n",
              "  <tbody>\n",
              "    <tr>\n",
              "      <th>14</th>\n",
              "      <td>html</td>\n",
              "      <td>.NET, C#, Delphi, HTML, Java, Javascript, PHP,...</td>\n",
              "      <td>$102,000.00</td>\n",
              "      <td>Mi sueldo está dolarizado</td>\n",
              "      <td>[.net, c#, delphi, html, java, javascript, php...</td>\n",
              "    </tr>\n",
              "    <tr>\n",
              "      <th>14</th>\n",
              "      <td>javascript</td>\n",
              "      <td>.NET, C#, Delphi, HTML, Java, Javascript, PHP,...</td>\n",
              "      <td>$102,000.00</td>\n",
              "      <td>Mi sueldo está dolarizado</td>\n",
              "      <td>[.net, c#, delphi, html, java, javascript, php...</td>\n",
              "    </tr>\n",
              "    <tr>\n",
              "      <th>14</th>\n",
              "      <td>sql</td>\n",
              "      <td>.NET, C#, Delphi, HTML, Java, Javascript, PHP,...</td>\n",
              "      <td>$102,000.00</td>\n",
              "      <td>Mi sueldo está dolarizado</td>\n",
              "      <td>[.net, c#, delphi, html, java, javascript, php...</td>\n",
              "    </tr>\n",
              "    <tr>\n",
              "      <th>41</th>\n",
              "      <td>python</td>\n",
              "      <td>Bash/Shell, Go, Python</td>\n",
              "      <td>$450,000.00</td>\n",
              "      <td>Mi sueldo está dolarizado</td>\n",
              "      <td>[bash/shell, go, python]</td>\n",
              "    </tr>\n",
              "    <tr>\n",
              "      <th>60</th>\n",
              "      <td>python</td>\n",
              "      <td>C, C++, Java, Python</td>\n",
              "      <td>$480,000.00</td>\n",
              "      <td>Mi sueldo está dolarizado</td>\n",
              "      <td>[c, c++, java, python]</td>\n",
              "    </tr>\n",
              "    <tr>\n",
              "      <th>63</th>\n",
              "      <td>javascript</td>\n",
              "      <td>Go, Javascript, Python, Ruby, TypeScript</td>\n",
              "      <td>$170,200.00</td>\n",
              "      <td>Mi sueldo está dolarizado</td>\n",
              "      <td>[go, javascript, python, ruby, typescript]</td>\n",
              "    </tr>\n",
              "    <tr>\n",
              "      <th>63</th>\n",
              "      <td>python</td>\n",
              "      <td>Go, Javascript, Python, Ruby, TypeScript</td>\n",
              "      <td>$170,200.00</td>\n",
              "      <td>Mi sueldo está dolarizado</td>\n",
              "      <td>[go, javascript, python, ruby, typescript]</td>\n",
              "    </tr>\n",
              "    <tr>\n",
              "      <th>66</th>\n",
              "      <td>css</td>\n",
              "      <td>CSS, Elixir, HTML, Javascript, Ruby, SQL, Type...</td>\n",
              "      <td>$283,000.00</td>\n",
              "      <td>Mi sueldo está dolarizado</td>\n",
              "      <td>[css, elixir, html, javascript, ruby, sql, typ...</td>\n",
              "    </tr>\n",
              "    <tr>\n",
              "      <th>66</th>\n",
              "      <td>html</td>\n",
              "      <td>CSS, Elixir, HTML, Javascript, Ruby, SQL, Type...</td>\n",
              "      <td>$283,000.00</td>\n",
              "      <td>Mi sueldo está dolarizado</td>\n",
              "      <td>[css, elixir, html, javascript, ruby, sql, typ...</td>\n",
              "    </tr>\n",
              "    <tr>\n",
              "      <th>66</th>\n",
              "      <td>javascript</td>\n",
              "      <td>CSS, Elixir, HTML, Javascript, Ruby, SQL, Type...</td>\n",
              "      <td>$283,000.00</td>\n",
              "      <td>Mi sueldo está dolarizado</td>\n",
              "      <td>[css, elixir, html, javascript, ruby, sql, typ...</td>\n",
              "    </tr>\n",
              "  </tbody>\n",
              "</table>\n",
              "</div>\n",
              "      <button class=\"colab-df-convert\" onclick=\"convertToInteractive('df-0da47699-7505-45ec-8ade-4c969d0645c5')\"\n",
              "              title=\"Convert this dataframe to an interactive table.\"\n",
              "              style=\"display:none;\">\n",
              "        \n",
              "  <svg xmlns=\"http://www.w3.org/2000/svg\" height=\"24px\"viewBox=\"0 0 24 24\"\n",
              "       width=\"24px\">\n",
              "    <path d=\"M0 0h24v24H0V0z\" fill=\"none\"/>\n",
              "    <path d=\"M18.56 5.44l.94 2.06.94-2.06 2.06-.94-2.06-.94-.94-2.06-.94 2.06-2.06.94zm-11 1L8.5 8.5l.94-2.06 2.06-.94-2.06-.94L8.5 2.5l-.94 2.06-2.06.94zm10 10l.94 2.06.94-2.06 2.06-.94-2.06-.94-.94-2.06-.94 2.06-2.06.94z\"/><path d=\"M17.41 7.96l-1.37-1.37c-.4-.4-.92-.59-1.43-.59-.52 0-1.04.2-1.43.59L10.3 9.45l-7.72 7.72c-.78.78-.78 2.05 0 2.83L4 21.41c.39.39.9.59 1.41.59.51 0 1.02-.2 1.41-.59l7.78-7.78 2.81-2.81c.8-.78.8-2.07 0-2.86zM5.41 20L4 18.59l7.72-7.72 1.47 1.35L5.41 20z\"/>\n",
              "  </svg>\n",
              "      </button>\n",
              "      \n",
              "  <style>\n",
              "    .colab-df-container {\n",
              "      display:flex;\n",
              "      flex-wrap:wrap;\n",
              "      gap: 12px;\n",
              "    }\n",
              "\n",
              "    .colab-df-convert {\n",
              "      background-color: #E8F0FE;\n",
              "      border: none;\n",
              "      border-radius: 50%;\n",
              "      cursor: pointer;\n",
              "      display: none;\n",
              "      fill: #1967D2;\n",
              "      height: 32px;\n",
              "      padding: 0 0 0 0;\n",
              "      width: 32px;\n",
              "    }\n",
              "\n",
              "    .colab-df-convert:hover {\n",
              "      background-color: #E2EBFA;\n",
              "      box-shadow: 0px 1px 2px rgba(60, 64, 67, 0.3), 0px 1px 3px 1px rgba(60, 64, 67, 0.15);\n",
              "      fill: #174EA6;\n",
              "    }\n",
              "\n",
              "    [theme=dark] .colab-df-convert {\n",
              "      background-color: #3B4455;\n",
              "      fill: #D2E3FC;\n",
              "    }\n",
              "\n",
              "    [theme=dark] .colab-df-convert:hover {\n",
              "      background-color: #434B5C;\n",
              "      box-shadow: 0px 1px 3px 1px rgba(0, 0, 0, 0.15);\n",
              "      filter: drop-shadow(0px 1px 2px rgba(0, 0, 0, 0.3));\n",
              "      fill: #FFFFFF;\n",
              "    }\n",
              "  </style>\n",
              "\n",
              "      <script>\n",
              "        const buttonEl =\n",
              "          document.querySelector('#df-0da47699-7505-45ec-8ade-4c969d0645c5 button.colab-df-convert');\n",
              "        buttonEl.style.display =\n",
              "          google.colab.kernel.accessAllowed ? 'block' : 'none';\n",
              "\n",
              "        async function convertToInteractive(key) {\n",
              "          const element = document.querySelector('#df-0da47699-7505-45ec-8ade-4c969d0645c5');\n",
              "          const dataTable =\n",
              "            await google.colab.kernel.invokeFunction('convertToInteractive',\n",
              "                                                     [key], {});\n",
              "          if (!dataTable) return;\n",
              "\n",
              "          const docLinkHtml = 'Like what you see? Visit the ' +\n",
              "            '<a target=\"_blank\" href=https://colab.research.google.com/notebooks/data_table.ipynb>data table notebook</a>'\n",
              "            + ' to learn more about interactive tables.';\n",
              "          element.innerHTML = '';\n",
              "          dataTable['output_type'] = 'display_data';\n",
              "          await google.colab.output.renderOutput(dataTable, element);\n",
              "          const docLink = document.createElement('div');\n",
              "          docLink.innerHTML = docLinkHtml;\n",
              "          element.appendChild(docLink);\n",
              "        }\n",
              "      </script>\n",
              "    </div>\n",
              "  </div>\n",
              "  "
            ]
          },
          "metadata": {},
          "execution_count": 23
        }
      ]
    },
    {
      "cell_type": "markdown",
      "source": [
        "### 1.3 Medidas de estadística descriptiva sobre la distribución de salario para cada lenguaje seleccionado"
      ],
      "metadata": {
        "id": "_3r-GruPezfW"
      }
    },
    {
      "cell_type": "code",
      "source": [
        "filtered_df_lang.groupby(filtered_df_lang['programming_language']).describe()"
      ],
      "metadata": {
        "colab": {
          "base_uri": "https://localhost:8080/",
          "height": 268
        },
        "id": "1P6PC8dfRd0U",
        "outputId": "6a91a09e-8e96-45cf-aadb-4ccfd763d910"
      },
      "execution_count": 24,
      "outputs": [
        {
          "output_type": "execute_result",
          "data": {
            "text/plain": [
              "                     salary_monthly_BRUTO                                    \\\n",
              "                                    count        mean         std       min   \n",
              "programming_language                                                          \n",
              "css                               $161.00 $264,964.10 $263,807.45   $100.00   \n",
              "html                              $218.00 $252,931.79 $242,594.85   $100.00   \n",
              "javascript                        $347.00 $265,911.72 $234,575.45   $100.00   \n",
              "python                            $209.00 $291,056.21 $236,932.36     $2.00   \n",
              "sql                               $186.00 $255,154.33 $220,668.97 $1,100.00   \n",
              "\n",
              "                                                                        \n",
              "                             25%         50%         75%           max  \n",
              "programming_language                                                    \n",
              "css                  $104,812.00 $182,219.00 $350,000.00 $2,080,000.00  \n",
              "html                 $100,000.00 $179,110.12 $350,000.00 $2,080,000.00  \n",
              "javascript           $115,420.00 $200,000.00 $360,000.00 $2,080,000.00  \n",
              "python               $140,000.00 $220,000.00 $360,000.00 $1,680,000.00  \n",
              "sql                  $120,000.00 $195,000.00 $350,000.00 $2,080,000.00  "
            ],
            "text/html": [
              "\n",
              "  <div id=\"df-bc88f1e9-6feb-482e-9b84-ea184e6068fd\">\n",
              "    <div class=\"colab-df-container\">\n",
              "      <div>\n",
              "<style scoped>\n",
              "    .dataframe tbody tr th:only-of-type {\n",
              "        vertical-align: middle;\n",
              "    }\n",
              "\n",
              "    .dataframe tbody tr th {\n",
              "        vertical-align: top;\n",
              "    }\n",
              "\n",
              "    .dataframe thead tr th {\n",
              "        text-align: left;\n",
              "    }\n",
              "\n",
              "    .dataframe thead tr:last-of-type th {\n",
              "        text-align: right;\n",
              "    }\n",
              "</style>\n",
              "<table border=\"1\" class=\"dataframe\">\n",
              "  <thead>\n",
              "    <tr>\n",
              "      <th></th>\n",
              "      <th colspan=\"8\" halign=\"left\">salary_monthly_BRUTO</th>\n",
              "    </tr>\n",
              "    <tr>\n",
              "      <th></th>\n",
              "      <th>count</th>\n",
              "      <th>mean</th>\n",
              "      <th>std</th>\n",
              "      <th>min</th>\n",
              "      <th>25%</th>\n",
              "      <th>50%</th>\n",
              "      <th>75%</th>\n",
              "      <th>max</th>\n",
              "    </tr>\n",
              "    <tr>\n",
              "      <th>programming_language</th>\n",
              "      <th></th>\n",
              "      <th></th>\n",
              "      <th></th>\n",
              "      <th></th>\n",
              "      <th></th>\n",
              "      <th></th>\n",
              "      <th></th>\n",
              "      <th></th>\n",
              "    </tr>\n",
              "  </thead>\n",
              "  <tbody>\n",
              "    <tr>\n",
              "      <th>css</th>\n",
              "      <td>$161.00</td>\n",
              "      <td>$264,964.10</td>\n",
              "      <td>$263,807.45</td>\n",
              "      <td>$100.00</td>\n",
              "      <td>$104,812.00</td>\n",
              "      <td>$182,219.00</td>\n",
              "      <td>$350,000.00</td>\n",
              "      <td>$2,080,000.00</td>\n",
              "    </tr>\n",
              "    <tr>\n",
              "      <th>html</th>\n",
              "      <td>$218.00</td>\n",
              "      <td>$252,931.79</td>\n",
              "      <td>$242,594.85</td>\n",
              "      <td>$100.00</td>\n",
              "      <td>$100,000.00</td>\n",
              "      <td>$179,110.12</td>\n",
              "      <td>$350,000.00</td>\n",
              "      <td>$2,080,000.00</td>\n",
              "    </tr>\n",
              "    <tr>\n",
              "      <th>javascript</th>\n",
              "      <td>$347.00</td>\n",
              "      <td>$265,911.72</td>\n",
              "      <td>$234,575.45</td>\n",
              "      <td>$100.00</td>\n",
              "      <td>$115,420.00</td>\n",
              "      <td>$200,000.00</td>\n",
              "      <td>$360,000.00</td>\n",
              "      <td>$2,080,000.00</td>\n",
              "    </tr>\n",
              "    <tr>\n",
              "      <th>python</th>\n",
              "      <td>$209.00</td>\n",
              "      <td>$291,056.21</td>\n",
              "      <td>$236,932.36</td>\n",
              "      <td>$2.00</td>\n",
              "      <td>$140,000.00</td>\n",
              "      <td>$220,000.00</td>\n",
              "      <td>$360,000.00</td>\n",
              "      <td>$1,680,000.00</td>\n",
              "    </tr>\n",
              "    <tr>\n",
              "      <th>sql</th>\n",
              "      <td>$186.00</td>\n",
              "      <td>$255,154.33</td>\n",
              "      <td>$220,668.97</td>\n",
              "      <td>$1,100.00</td>\n",
              "      <td>$120,000.00</td>\n",
              "      <td>$195,000.00</td>\n",
              "      <td>$350,000.00</td>\n",
              "      <td>$2,080,000.00</td>\n",
              "    </tr>\n",
              "  </tbody>\n",
              "</table>\n",
              "</div>\n",
              "      <button class=\"colab-df-convert\" onclick=\"convertToInteractive('df-bc88f1e9-6feb-482e-9b84-ea184e6068fd')\"\n",
              "              title=\"Convert this dataframe to an interactive table.\"\n",
              "              style=\"display:none;\">\n",
              "        \n",
              "  <svg xmlns=\"http://www.w3.org/2000/svg\" height=\"24px\"viewBox=\"0 0 24 24\"\n",
              "       width=\"24px\">\n",
              "    <path d=\"M0 0h24v24H0V0z\" fill=\"none\"/>\n",
              "    <path d=\"M18.56 5.44l.94 2.06.94-2.06 2.06-.94-2.06-.94-.94-2.06-.94 2.06-2.06.94zm-11 1L8.5 8.5l.94-2.06 2.06-.94-2.06-.94L8.5 2.5l-.94 2.06-2.06.94zm10 10l.94 2.06.94-2.06 2.06-.94-2.06-.94-.94-2.06-.94 2.06-2.06.94z\"/><path d=\"M17.41 7.96l-1.37-1.37c-.4-.4-.92-.59-1.43-.59-.52 0-1.04.2-1.43.59L10.3 9.45l-7.72 7.72c-.78.78-.78 2.05 0 2.83L4 21.41c.39.39.9.59 1.41.59.51 0 1.02-.2 1.41-.59l7.78-7.78 2.81-2.81c.8-.78.8-2.07 0-2.86zM5.41 20L4 18.59l7.72-7.72 1.47 1.35L5.41 20z\"/>\n",
              "  </svg>\n",
              "      </button>\n",
              "      \n",
              "  <style>\n",
              "    .colab-df-container {\n",
              "      display:flex;\n",
              "      flex-wrap:wrap;\n",
              "      gap: 12px;\n",
              "    }\n",
              "\n",
              "    .colab-df-convert {\n",
              "      background-color: #E8F0FE;\n",
              "      border: none;\n",
              "      border-radius: 50%;\n",
              "      cursor: pointer;\n",
              "      display: none;\n",
              "      fill: #1967D2;\n",
              "      height: 32px;\n",
              "      padding: 0 0 0 0;\n",
              "      width: 32px;\n",
              "    }\n",
              "\n",
              "    .colab-df-convert:hover {\n",
              "      background-color: #E2EBFA;\n",
              "      box-shadow: 0px 1px 2px rgba(60, 64, 67, 0.3), 0px 1px 3px 1px rgba(60, 64, 67, 0.15);\n",
              "      fill: #174EA6;\n",
              "    }\n",
              "\n",
              "    [theme=dark] .colab-df-convert {\n",
              "      background-color: #3B4455;\n",
              "      fill: #D2E3FC;\n",
              "    }\n",
              "\n",
              "    [theme=dark] .colab-df-convert:hover {\n",
              "      background-color: #434B5C;\n",
              "      box-shadow: 0px 1px 3px 1px rgba(0, 0, 0, 0.15);\n",
              "      filter: drop-shadow(0px 1px 2px rgba(0, 0, 0, 0.3));\n",
              "      fill: #FFFFFF;\n",
              "    }\n",
              "  </style>\n",
              "\n",
              "      <script>\n",
              "        const buttonEl =\n",
              "          document.querySelector('#df-bc88f1e9-6feb-482e-9b84-ea184e6068fd button.colab-df-convert');\n",
              "        buttonEl.style.display =\n",
              "          google.colab.kernel.accessAllowed ? 'block' : 'none';\n",
              "\n",
              "        async function convertToInteractive(key) {\n",
              "          const element = document.querySelector('#df-bc88f1e9-6feb-482e-9b84-ea184e6068fd');\n",
              "          const dataTable =\n",
              "            await google.colab.kernel.invokeFunction('convertToInteractive',\n",
              "                                                     [key], {});\n",
              "          if (!dataTable) return;\n",
              "\n",
              "          const docLinkHtml = 'Like what you see? Visit the ' +\n",
              "            '<a target=\"_blank\" href=https://colab.research.google.com/notebooks/data_table.ipynb>data table notebook</a>'\n",
              "            + ' to learn more about interactive tables.';\n",
              "          element.innerHTML = '';\n",
              "          dataTable['output_type'] = 'display_data';\n",
              "          await google.colab.output.renderOutput(dataTable, element);\n",
              "          const docLink = document.createElement('div');\n",
              "          docLink.innerHTML = docLinkHtml;\n",
              "          element.appendChild(docLink);\n",
              "        }\n",
              "      </script>\n",
              "    </div>\n",
              "  </div>\n",
              "  "
            ]
          },
          "metadata": {},
          "execution_count": 24
        }
      ]
    },
    {
      "cell_type": "markdown",
      "source": [
        "Comparación gráfica del Salario Bruto por cada Lenguaje de Programación elegido"
      ],
      "metadata": {
        "id": "clj6KAF2QehO"
      }
    },
    {
      "cell_type": "code",
      "source": [
        "fig = plt.figure(figsize=(15,10))\n",
        "\n",
        "seaborn.boxplot(data=filtered_df_lang, x='programming_language', y='salary_monthly_BRUTO'  )\n",
        "\n",
        "plt.ticklabel_format(style = 'plain',\n",
        "                    axis = 'y'\n",
        "                   )\n",
        "\n",
        "plt.xlabel('')\n",
        "plt.ylabel('')\n",
        "\n",
        "plt.show()"
      ],
      "metadata": {
        "colab": {
          "base_uri": "https://localhost:8080/",
          "height": 605
        },
        "id": "iN10qtupQZ8x",
        "outputId": "7906c41a-c512-4413-c2f9-28fa221866a7"
      },
      "execution_count": 25,
      "outputs": [
        {
          "output_type": "display_data",
          "data": {
            "text/plain": [
              "<Figure size 1080x720 with 1 Axes>"
            ],
            "image/png": "[encoded data removed]"
          },
          "metadata": {
            "needs_background": "light"
          }
        }
      ]
    },
    {
      "cell_type": "markdown",
      "metadata": {
        "id": "tWo8SmmC9FAk"
      },
      "source": [
        "# Ejercicio 2 - Densidades y varias variables\n",
        "\n",
        "Responder a la pregunta general: **¿Que herramientas (prácticas y teóricas) són útiles para explorar la base, descubrir patrones, asociaciones?**\n",
        "\n",
        "Para ello considere (igual al ejercicio Anterior):\n",
        "1. Seleccionar las columnas relevantes para analizar.\n",
        "2. Seleccionar las filas relevantes para analizar. Esto incluye la eliminación de valores extremos y erróneos, pero también puede enfocar el análisis en sub-poblaciones. "
      ]
    },
    {
      "cell_type": "markdown",
      "source": [
        "#### 2.1 Selección de las columnas relevamentes para analizar.\n",
        "\n",
        "Se va a enfocar el analisis en las columnas:\n",
        "\n",
        "\n",
        "*   salary_monthly_BRUTO\n",
        "*   tools_programming_languages\n",
        "*   profile_years_experience\n",
        "\n"
      ],
      "metadata": {
        "id": "UfWhCL1QV_PT"
      }
    },
    {
      "cell_type": "code",
      "source": [
        "relevant_columns = ['tools_programming_languages', 'salary_monthly_BRUTO', 'profile_years_experience']"
      ],
      "metadata": {
        "id": "Ts-b_Bzpj_Z_"
      },
      "execution_count": 26,
      "outputs": []
    },
    {
      "cell_type": "markdown",
      "source": [
        "#### Inspección de valores de la columna profile_years_experienced:"
      ],
      "metadata": {
        "id": "nMXiDpdtj0cD"
      }
    },
    {
      "cell_type": "code",
      "source": [
        "df.profile_years_experience.unique()"
      ],
      "metadata": {
        "colab": {
          "base_uri": "https://localhost:8080/"
        },
        "id": "6eIVZQlKjqKp",
        "outputId": "6b08b088-b312-45f9-d4f3-dc69942ff5c5"
      },
      "execution_count": 27,
      "outputs": [
        {
          "output_type": "execute_result",
          "data": {
            "text/plain": [
              "array([  3. ,   5. ,   2. ,  15. ,   9. ,   1. ,   0. ,  20. ,  10. ,\n",
              "         4. ,  11. ,  13. ,  12. ,  16. ,  30. ,  14. ,  29. ,   8. ,\n",
              "         6. ,  22. ,   1.5,   7. ,  25. ,  27. ,  26. ,  21. ,  17. ,\n",
              "        31. ,  18. ,  35. ,   2.5,   6.5,  23. ,  24. ,   4.5,  19. ,\n",
              "        32. ,  34. ,  39. ,   3.7,   3.5,  33. ,  36. ,  40. ,   2.8,\n",
              "         2.4,   1.8,   1.7,   8.5,   5.5, 115. ,   1.6,  28. ,  37. ,\n",
              "        43. ,   2.6,   3.1,  44. ,  38. ])"
            ]
          },
          "metadata": {},
          "execution_count": 27
        }
      ]
    },
    {
      "cell_type": "code",
      "source": [
        "#Información estadística de la variable\n",
        "df.profile_years_experience.describe()"
      ],
      "metadata": {
        "colab": {
          "base_uri": "https://localhost:8080/"
        },
        "id": "1H5AWjkOnTxE",
        "outputId": "ba7443b2-e086-412e-ad9f-2aa5845a42f9"
      },
      "execution_count": 28,
      "outputs": [
        {
          "output_type": "execute_result",
          "data": {
            "text/plain": [
              "count   $6,095.00\n",
              "mean        $8.93\n",
              "std         $7.16\n",
              "min         $0.00\n",
              "25%         $3.00\n",
              "50%         $7.00\n",
              "75%        $13.00\n",
              "max       $115.00\n",
              "Name: profile_years_experience, dtype: float64"
            ]
          },
          "metadata": {},
          "execution_count": 28
        }
      ]
    },
    {
      "cell_type": "code",
      "source": [
        "seaborn.displot(df['profile_years_experience'], aspect=5)\n",
        "plt.ticklabel_format(style='plain', axis='x')\n",
        "plt.xlim(0,115) # definimos los limites de x entre 0 y 115"
      ],
      "metadata": {
        "colab": {
          "base_uri": "https://localhost:8080/",
          "height": 274
        },
        "id": "YvijryKkmeNo",
        "outputId": "a2de34a3-553b-43cd-d35a-122a71f4ab4b"
      },
      "execution_count": 29,
      "outputs": [
        {
          "output_type": "execute_result",
          "data": {
            "text/plain": [
              "(0.0, 115.0)"
            ]
          },
          "metadata": {},
          "execution_count": 29
        },
        {
          "output_type": "display_data",
          "data": {
            "text/plain": [
              "<Figure size 1800x360 with 1 Axes>"
            ],
            "image/png": "[encoded data removed]"
          },
          "metadata": {
            "needs_background": "light"
          }
        }
      ]
    },
    {
      "cell_type": "code",
      "source": [
        "max_age = 99\n",
        "seaborn.pairplot(data=df[df.profile_years_experience < max_age],\n",
        "                 y_vars=['profile_years_experience', ],\n",
        "                 x_vars=['salary_monthly_BRUTO'],\n",
        "                 aspect=3, height=8)"
      ],
      "metadata": {
        "colab": {
          "base_uri": "https://localhost:8080/",
          "height": 461
        },
        "id": "NtP1w30TkdJA",
        "outputId": "e02bc1c5-b19a-4799-a8f2-a70f1be7220b"
      },
      "execution_count": 30,
      "outputs": [
        {
          "output_type": "execute_result",
          "data": {
            "text/plain": [
              "<seaborn.axisgrid.PairGrid at 0x7f75a3f04190>"
            ]
          },
          "metadata": {},
          "execution_count": 30
        },
        {
          "output_type": "display_data",
          "data": {
            "text/plain": [
              "<Figure size 1728x576 with 1 Axes>"
            ],
            "image/png": "[encoded data removed]"
          },
          "metadata": {
            "needs_background": "light"
          }
        }
      ]
    },
    {
      "cell_type": "code",
      "source": [
        "# Se crea un nuevo dataset con sólo los valores de años de experiencia <= a 15\n",
        "\n",
        "dfy = df.loc[df['profile_years_experience'] <= 15]\n",
        "\n",
        "# Se muestra nuevamente la descripción de los datos:\n",
        "\n",
        "dfy.profile_years_experience.describe()"
      ],
      "metadata": {
        "colab": {
          "base_uri": "https://localhost:8080/"
        },
        "id": "4f62KSHlk9np",
        "outputId": "85c5ff31-6f90-4a2b-cffa-a8d7f0cd7189"
      },
      "execution_count": 31,
      "outputs": [
        {
          "output_type": "execute_result",
          "data": {
            "text/plain": [
              "count   $5,171.00\n",
              "mean        $6.66\n",
              "std         $4.56\n",
              "min         $0.00\n",
              "25%         $3.00\n",
              "50%         $6.00\n",
              "75%        $10.00\n",
              "max        $15.00\n",
              "Name: profile_years_experience, dtype: float64"
            ]
          },
          "metadata": {},
          "execution_count": 31
        }
      ]
    },
    {
      "cell_type": "markdown",
      "source": [
        "De esta manera, observamos que el 84% de los encuestados tienen hasta 15 años de experiencia."
      ],
      "metadata": {
        "id": "9pR_28_Fqhk8"
      }
    },
    {
      "cell_type": "markdown",
      "source": [
        "**2.2 Habiendo observado que hay valores extremos dentro de los datos de la variable 'profile_years_experience', vamos a trabajar con el 84% de los datos, es decir con quienes tienen hasta 15 años de experiencia, con salarios brutos menosres o iguales a $1.000.000.**"
      ],
      "metadata": {
        "id": "VPjq_gC3qzsR"
      }
    },
    {
      "cell_type": "code",
      "metadata": {
        "id": "wSAJUTaJtWJR",
        "colab": {
          "base_uri": "https://localhost:8080/",
          "height": 341
        },
        "outputId": "3bf9c4dd-90ec-4e0e-b9e2-801b79fbd0af"
      },
      "source": [
        "\n",
        "max_age = 15\n",
        "df_limpio=df[(df.profile_years_experience < max_age) & (df.salary_monthly_BRUTO <= 1000000)]\n",
        "seaborn.pairplot(data=df_limpio, y_vars=['profile_years_experience'],\n",
        "                 x_vars=['salary_monthly_BRUTO'],\n",
        "                 aspect=2, height=4)\n",
        "plt.xticks(rotation=20)"
      ],
      "execution_count": 32,
      "outputs": [
        {
          "output_type": "execute_result",
          "data": {
            "text/plain": [
              "(array([-200000.,       0.,  200000.,  400000.,  600000.,  800000.,\n",
              "        1000000., 1200000.]), <a list of 8 Text major ticklabel objects>)"
            ]
          },
          "metadata": {},
          "execution_count": 32
        },
        {
          "output_type": "display_data",
          "data": {
            "text/plain": [
              "<Figure size 576x288 with 1 Axes>"
            ],
            "image/png": "[encoded data removed]"
          },
          "metadata": {
            "needs_background": "light"
          }
        }
      ]
    },
    {
      "cell_type": "markdown",
      "metadata": {
        "id": "5baYhH0XHM3S"
      },
      "source": [
        "## a) Densidad conjunta\n",
        "\n",
        "Que herramientas visuales y modelos puede utilizar para estudiar la distribución y comportamiento de sus datos? \n",
        "\n",
        "Elija tres variables numéricas y 2 variables categóricas. Visualice la base según varias de las variables elegidas. Puede describir de alguna forma el comportamiento de sus datos? Que herramientas utilizaría? Describa\n",
        "\n",
        "\n"
      ]
    },
    {
      "cell_type": "markdown",
      "source": [
        "Selección de 3 VARIABLES NUMÉRICAS:\n",
        "\n",
        "- salary_monthly_BRUTO\n",
        "- salary_monthly_NETO\n",
        "- profile_years_experience\n",
        "\n",
        "Selección de 2 VARIABLES CATEGÓRICAS\n",
        "\n",
        "- profile_gender\n",
        "- profile_studies_level"
      ],
      "metadata": {
        "id": "4JhgKH5nvbwJ"
      }
    },
    {
      "cell_type": "code",
      "metadata": {
        "colab": {
          "base_uri": "https://localhost:8080/"
        },
        "outputId": "d0e6645f-3242-4a2c-f2c0-978bc4885280",
        "id": "GbzlYVY80G4y"
      },
      "source": [
        "df.profile_studies_level.unique()\n"
      ],
      "execution_count": 33,
      "outputs": [
        {
          "output_type": "execute_result",
          "data": {
            "text/plain": [
              "array(['Universitario', 'Secundario', 'Posgrado', 'Terciario',\n",
              "       'Doctorado', 'Posdoctorado', 'Primario'], dtype=object)"
            ]
          },
          "metadata": {},
          "execution_count": 33
        }
      ]
    },
    {
      "cell_type": "markdown",
      "source": [
        "**Gráfico de varias variables elegidas**"
      ],
      "metadata": {
        "id": "ERqC_EejwONu"
      }
    },
    {
      "cell_type": "code",
      "source": [
        "max_age = 15\n",
        "seaborn.pairplot(data=df[(df.profile_years_experience < max_age) & (df.salary_monthly_BRUTO < 1000000) & (df.salary_monthly_NETO < 1000000) ],\n",
        "                 y_vars=['profile_years_experience', 'salary_monthly_BRUTO','salary_monthly_NETO'],\n",
        "                 x_vars=['profile_gender', 'profile_studies_level'],\n",
        "                 aspect=2, height=5)"
      ],
      "metadata": {
        "colab": {
          "base_uri": "https://localhost:8080/",
          "height": 997
        },
        "id": "xblTV2GFwdL1",
        "outputId": "7f5c4d7b-f059-4103-bdf5-30f79dddb7d5"
      },
      "execution_count": 34,
      "outputs": [
        {
          "output_type": "execute_result",
          "data": {
            "text/plain": [
              "<seaborn.axisgrid.PairGrid at 0x7f75a1437f50>"
            ]
          },
          "metadata": {},
          "execution_count": 34
        },
        {
          "output_type": "display_data",
          "data": {
            "text/plain": [
              "<Figure size 1440x1080 with 6 Axes>"
            ],
            "image/png": "[encoded data removed]"
          },
          "metadata": {
            "needs_background": "light"
          }
        }
      ]
    },
    {
      "cell_type": "markdown",
      "metadata": {
        "id": "lkuHE2aZGHMO"
      },
      "source": [
        "## b) Asociación\n",
        "\n",
        "* Necesitamos decidir si sacar o no la columna de salario bruto. Para hacer la encuesta más simple.\n",
        "¿Existe una correlación entre el salario bruto y el neto? Que abordaje y medidas usaría\n",
        "\n"
      ]
    },
    {
      "cell_type": "markdown",
      "metadata": {
        "id": "7MZrbRJCm-ae"
      },
      "source": [
        "## c) Densidad condicional \n",
        "\n",
        "Estudie la distribución del salario según el nivel de estudio.\n",
        "\n",
        "Separe la población según el nivel de estudio (elija dos subpoblaciones numerosas) y grafique de manera comparativa ambos histogramas de la variable `'salary_monthly_NETO'`\n",
        "¿Considera que ambas variables son independientes?\n",
        "¿Qué analizaría al respecto?\n",
        "\n",
        "Calcule medidas de centralización y dispersión para cada subpoblación\n",
        "\n",
        "\n",
        "\n",
        "\n"
      ]
    },
    {
      "cell_type": "code",
      "source": [
        "#Primero se visualiza la cantidad de datos por nivel de estudio.\n",
        "\n",
        "profile_studies_level = df.profile_studies_level.unique()\n",
        "\n",
        "for i in profile_studies_level:\n",
        "  print(i + \": \"  + str(df[df.profile_studies_level == i][\"profile_studies_level\"].count()))"
      ],
      "metadata": {
        "colab": {
          "base_uri": "https://localhost:8080/"
        },
        "id": "BkeQeGqYdWLm",
        "outputId": "20f3a303-188f-4609-cf28-fa0881904129"
      },
      "execution_count": 35,
      "outputs": [
        {
          "output_type": "stream",
          "name": "stdout",
          "text": [
            "Universitario: 4133\n",
            "Secundario: 449\n",
            "Posgrado: 342\n",
            "Terciario: 1135\n",
            "Doctorado: 30\n",
            "Posdoctorado: 4\n",
            "Primario: 2\n"
          ]
        }
      ]
    },
    {
      "cell_type": "markdown",
      "source": [
        "Variables:\n",
        "\n",
        "* profile_studies_level\n",
        "* salary_monthly_NETO"
      ],
      "metadata": {
        "id": "mSqRXfYzk0jx"
      }
    },
    {
      "cell_type": "code",
      "source": [
        "#Probabilidad que ocurra"
      ],
      "metadata": {
        "id": "sGUhMxE9lUfB"
      },
      "execution_count": 36,
      "outputs": []
    },
    {
      "cell_type": "markdown",
      "source": [
        "### Subpoblación Nivel de Estudio Universitario"
      ],
      "metadata": {
        "id": "jMY0Iyy4vANo"
      }
    },
    {
      "cell_type": "code",
      "source": [
        "filter_universitario = df[df.profile_studies_level == \"Universitario\"][\"salary_monthly_NETO\"]\n",
        "\n",
        "plt.figure(figsize=(8,6))\n",
        "\n",
        "plt.hist(x=filter_universitario, bins=40, color=\"#F2AB6D\", rwidth=0.85)\n",
        "\n",
        "plt.title('Histograma del salario mensual neto y nivel de estudios universitario')\n",
        "\n",
        "plt.xlabel('Salario Mensual Neto')\n",
        "\n",
        "plt.ylabel('Frecuencia')\n",
        "\n",
        "plt.ticklabel_format(axis='x', style='plain')\n",
        "\n",
        "\n",
        "\n",
        "plt.xticks(rotation=45)\n",
        "\n",
        "plt.show()\n"
      ],
      "metadata": {
        "colab": {
          "base_uri": "https://localhost:8080/",
          "height": 476
        },
        "id": "tlFB36QdY8Wy",
        "outputId": "bca9cfae-7e79-446f-aeda-2a944de5ed61"
      },
      "execution_count": 37,
      "outputs": [
        {
          "output_type": "display_data",
          "data": {
            "text/plain": [
              "<Figure size 576x432 with 1 Axes>"
            ],
            "image/png": "[encoded data removed]"
          },
          "metadata": {
            "needs_background": "light"
          }
        }
      ]
    },
    {
      "cell_type": "code",
      "source": [
        "#Medidas de centralización\n",
        "\n",
        "dictionary_universitario = {'Media':filter_universitario.mean(), 'Mediana': filter_universitario.median(), 'Moda': filter_universitario.mode()}\n",
        "\n",
        "for i, j in dictionary_universitario.items():\n",
        "  print(str(i) + \": $\" + str(round(float(j))))"
      ],
      "metadata": {
        "colab": {
          "base_uri": "https://localhost:8080/"
        },
        "id": "fdMErhYLlK1u",
        "outputId": "641b0196-1c52-48a0-bb6e-ec10a6e3c5e1"
      },
      "execution_count": 38,
      "outputs": [
        {
          "output_type": "stream",
          "name": "stdout",
          "text": [
            "Media: $97410\n",
            "Mediana: $80000\n",
            "Moda: $80000\n"
          ]
        }
      ]
    },
    {
      "cell_type": "code",
      "source": [
        "#Medidas de dispersión\n",
        "\n",
        "dictionary2_universitario = {'Varianza':filter_universitario.var(), 'Desviación estándar': filter_universitario.std(), 'Coeficiente de Variación': filter_universitario.std()/filter_universitario.mean()}\n",
        "\n",
        "for i, j in dictionary2_universitario.items():\n",
        "\n",
        "    if j>2:\n",
        "      print(str(i) + \": \" + str(round(float(j))))\n",
        "    else:\n",
        "      print(str(i) + \": \" + str(round(filter_universitario.std()/filter_universitario.mean(),3)))\n",
        "  \n",
        "  "
      ],
      "metadata": {
        "colab": {
          "base_uri": "https://localhost:8080/"
        },
        "id": "I8xU6GATrDJg",
        "outputId": "1c849a9c-5bc9-452f-b0e3-4048910d58ea"
      },
      "execution_count": 39,
      "outputs": [
        {
          "output_type": "stream",
          "name": "stdout",
          "text": [
            "Varianza: 9812270024\n",
            "Desviación estándar: 99057\n",
            "Coeficiente de Variación: 1.017\n"
          ]
        }
      ]
    },
    {
      "cell_type": "markdown",
      "source": [
        "### COEFICIENTE DE VARIACION MAYOR A 1 \n",
        "\n",
        "https://www.universoformulas.com/estadistica/descriptiva/coeficiente-variacion-pearson/#:~:text=El%20coeficiente%20de%20variaci%C3%B3n%20toma,y%20la%20media%20pierde%20confiabilidad."
      ],
      "metadata": {
        "id": "HVCRs57x2l07"
      }
    },
    {
      "cell_type": "markdown",
      "source": [
        "### Subpoblación Nivel de Estudio Terciario"
      ],
      "metadata": {
        "id": "ImEorrDLvUtG"
      }
    },
    {
      "cell_type": "code",
      "source": [
        "filter_terciario = df[df.profile_studies_level == \"Terciario\"][\"salary_monthly_NETO\"]\n",
        "\n",
        "plt.figure(figsize=(8,6))\n",
        "\n",
        "plt.hist(x=filter_universitario, bins=40, color=\"#F2AB6D\", rwidth=0.85)\n",
        "\n",
        "plt.title('Histograma del salario mensual neto y nivel de estudios universitario')\n",
        "\n",
        "plt.xlabel('Salario Mensual Neto')\n",
        "\n",
        "plt.ylabel('Frecuencia')\n",
        "\n",
        "plt.ticklabel_format(axis='x', style='plain')\n",
        "\n",
        "\n",
        "\n",
        "plt.xticks(rotation=45)\n",
        "\n",
        "plt.show()\n"
      ],
      "metadata": {
        "colab": {
          "base_uri": "https://localhost:8080/",
          "height": 476
        },
        "id": "ZKUpmauCvbVP",
        "outputId": "7c0e05af-abb5-47f5-a153-f5d81db28600"
      },
      "execution_count": 40,
      "outputs": [
        {
          "output_type": "display_data",
          "data": {
            "text/plain": [
              "<Figure size 576x432 with 1 Axes>"
            ],
            "image/png": "[encoded data removed]"
          },
          "metadata": {
            "needs_background": "light"
          }
        }
      ]
    },
    {
      "cell_type": "code",
      "source": [
        "#Medidas de centralización\n",
        "\n",
        "dictionary_terciario = {'Media':filter_terciario.mean(), 'Mediana': filter_terciario.median(), 'Moda': filter_terciario.mode()}\n",
        "\n",
        "for i, j in dictionary_terciario.items():\n",
        "  print(str(i) + \": $\" + str(round(float(j))))"
      ],
      "metadata": {
        "colab": {
          "base_uri": "https://localhost:8080/"
        },
        "id": "ibHsVXXEvbcx",
        "outputId": "f4f2cae1-baa9-4c09-86bd-8202aa575bec"
      },
      "execution_count": 41,
      "outputs": [
        {
          "output_type": "stream",
          "name": "stdout",
          "text": [
            "Media: $80814\n",
            "Mediana: $68000\n",
            "Moda: $80000\n"
          ]
        }
      ]
    },
    {
      "cell_type": "code",
      "source": [
        "#Medidas de dispersión\n",
        "\n",
        "dictionary2_terciario = {'Varianza':filter_terciario.var(), 'Desviación estándar': filter_terciario.std(), 'Coeficiente de Variación': filter_terciario.std()/filter_terciario.mean()}\n",
        "\n",
        "for i, j in dictionary2_terciario.items():\n",
        "\n",
        "    if j>2:\n",
        "      print(str(i) + \": \" + str(round(float(j))))\n",
        "    else:\n",
        "      print(str(i) + \": \" + str(round(filter_terciario.std()/filter_terciario.mean(),3)))"
      ],
      "metadata": {
        "colab": {
          "base_uri": "https://localhost:8080/"
        },
        "id": "IeXxvwTKvvmg",
        "outputId": "0ac74bc1-0c69-4d9c-c014-238384ce76f5"
      },
      "execution_count": 42,
      "outputs": [
        {
          "output_type": "stream",
          "name": "stdout",
          "text": [
            "Varianza: 5335579585\n",
            "Desviación estándar: 73045\n",
            "Coeficiente de Variación: 0.904\n"
          ]
        }
      ]
    },
    {
      "cell_type": "markdown",
      "metadata": {
        "id": "u8wgYxNiqVpE"
      },
      "source": [
        "## d) Densidad Conjunta condicional\n",
        "\n",
        "Elija dos variables numéricas y una categórica. \n",
        "Estudie la dispersión (scatterplot) de las dos variables discriminando en color por la variable categórica (ayuda: hue en seaborn)\n"
      ]
    },
    {
      "cell_type": "markdown",
      "source": [
        "Variables numéricas:\n",
        "\n",
        "*   profile_age\n",
        "*   profile_years_experience\n",
        "\n",
        "Variable categórica:\n",
        "\n",
        "*   salary_in_usd     \n",
        "\n"
      ],
      "metadata": {
        "id": "nhrxi4g6VbMz"
      }
    },
    {
      "cell_type": "code",
      "source": [
        "seaborn.jointplot(data=df[(df.profile_age < 80) & (df.profile_years_experience < 60)], x='profile_years_experience',\n",
        "                  y='profile_age', hue='salary_in_usd',\n",
        "                  kind='kde', height=11)"
      ],
      "metadata": {
        "id": "8717ivzIVaN9",
        "colab": {
          "base_uri": "https://localhost:8080/",
          "height": 803
        },
        "outputId": "146675f8-7dce-4b96-c299-aa59bba90e15"
      },
      "execution_count": 56,
      "outputs": [
        {
          "output_type": "execute_result",
          "data": {
            "text/plain": [
              "<seaborn.axisgrid.JointGrid at 0x7f759aee2810>"
            ]
          },
          "metadata": {},
          "execution_count": 56
        },
        {
          "output_type": "display_data",
          "data": {
            "text/plain": [
              "<Figure size 792x792 with 3 Axes>"
            ],
            "image/png": "[encoded data removed]"
          },
          "metadata": {
            "needs_background": "light"
          }
        }
      ]
    }
  ]
}